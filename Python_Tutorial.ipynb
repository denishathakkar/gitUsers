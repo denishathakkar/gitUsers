{
  "cells": [
    {
      "cell_type": "markdown",
      "metadata": {
        "id": "view-in-github",
        "colab_type": "text"
      },
      "source": [
        "<a href=\"https://colab.research.google.com/github/denishathakkar/gitUsers/blob/main/Python_Tutorial.ipynb\" target=\"_parent\"><img src=\"https://colab.research.google.com/assets/colab-badge.svg\" alt=\"Open In Colab\"/></a>"
      ]
    },
    {
      "cell_type": "markdown",
      "source": [
        "**Why Python?**\n",
        "\n",
        "1.   Simple to use and very flexible\n",
        "2.   Python enables programs to be written compactly and readably.\n",
        "3.   Python allows you to split your program into modules\n",
        "      1.   Large collection of standard modules\n",
        "4.   Python is an interpreted language\n",
        "     1.   No compilation and linking are necessary\n",
        "     2.   Interpreter can be used interactively\n",
        "\n",
        "\n",
        "\n",
        "\n",
        "\n",
        "\n",
        "\n",
        "\n"
      ],
      "metadata": {
        "id": "iDepe4cXXlXk"
      }
    },
    {
      "cell_type": "markdown",
      "metadata": {
        "id": "p-_WOOadGUM6"
      },
      "source": [
        "# Data Types"
      ]
    },
    {
      "cell_type": "markdown",
      "metadata": {
        "id": "r9jQKbusGUM7"
      },
      "source": [
        "## Numbers"
      ]
    },
    {
      "cell_type": "code",
      "execution_count": null,
      "metadata": {
        "id": "5feC9u3kGUM9"
      },
      "outputs": [],
      "source": [
        "# Variable assignment \n",
        "x=30  "
      ]
    },
    {
      "cell_type": "code",
      "execution_count": null,
      "metadata": {
        "id": "4sezekzbGUM-",
        "colab": {
          "base_uri": "https://localhost:8080/"
        },
        "outputId": "03cd1eae-81a5-42a2-cf77-15fe491eba9e"
      },
      "outputs": [
        {
          "output_type": "stream",
          "name": "stdout",
          "text": [
            "30\n"
          ]
        }
      ],
      "source": [
        "print(x)"
      ]
    },
    {
      "cell_type": "code",
      "execution_count": null,
      "metadata": {
        "id": "t5Ye8dhAGUNA",
        "colab": {
          "base_uri": "https://localhost:8080/"
        },
        "outputId": "54590204-7681-4415-ed19-7530f3e888cf"
      },
      "outputs": [
        {
          "output_type": "stream",
          "name": "stdout",
          "text": [
            "<class 'int'>\n"
          ]
        }
      ],
      "source": [
        "print(type(x))"
      ]
    },
    {
      "cell_type": "code",
      "execution_count": null,
      "metadata": {
        "id": "UYeAMZeEGUNA",
        "colab": {
          "base_uri": "https://localhost:8080/"
        },
        "outputId": "1d92b3a7-83d6-40eb-a45c-1e1cffbb284d"
      },
      "outputs": [
        {
          "output_type": "stream",
          "name": "stdout",
          "text": [
            "60\n"
          ]
        }
      ],
      "source": [
        "print(x*2)"
      ]
    },
    {
      "cell_type": "code",
      "execution_count": null,
      "metadata": {
        "id": "IW4PgkDGGUNC",
        "colab": {
          "base_uri": "https://localhost:8080/"
        },
        "outputId": "6c828ae0-de9d-4451-d583-04a825fa48a3"
      },
      "outputs": [
        {
          "output_type": "stream",
          "name": "stdout",
          "text": [
            "7\n"
          ]
        }
      ],
      "source": [
        "print(x//4)"
      ]
    },
    {
      "cell_type": "code",
      "execution_count": null,
      "metadata": {
        "id": "xO-RbA6NGUND",
        "colab": {
          "base_uri": "https://localhost:8080/"
        },
        "outputId": "7a9f8b3a-d49d-4424-a376-212e355ac901"
      },
      "outputs": [
        {
          "output_type": "stream",
          "name": "stdout",
          "text": [
            "2\n"
          ]
        }
      ],
      "source": [
        "print(x%4)"
      ]
    },
    {
      "cell_type": "code",
      "execution_count": null,
      "metadata": {
        "id": "wGvw0KQGGUNE",
        "colab": {
          "base_uri": "https://localhost:8080/"
        },
        "outputId": "5d636f14-7e22-47b2-9cf4-fe17d79f6905"
      },
      "outputs": [
        {
          "output_type": "execute_result",
          "data": {
            "text/plain": [
              "31"
            ]
          },
          "metadata": {},
          "execution_count": 7
        }
      ],
      "source": [
        "x=x+1\n",
        "x"
      ]
    },
    {
      "cell_type": "code",
      "execution_count": null,
      "metadata": {
        "id": "Wizov-iRGUNF",
        "colab": {
          "base_uri": "https://localhost:8080/"
        },
        "outputId": "8e253b51-2045-466e-e7d8-b5597b7535e5"
      },
      "outputs": [
        {
          "output_type": "execute_result",
          "data": {
            "text/plain": [
              "7.75"
            ]
          },
          "metadata": {},
          "execution_count": 8
        }
      ],
      "source": [
        "x/=4\n",
        "x"
      ]
    },
    {
      "cell_type": "code",
      "execution_count": null,
      "metadata": {
        "id": "aemyQcZrGUNG",
        "colab": {
          "base_uri": "https://localhost:8080/"
        },
        "outputId": "811f4990-f5f1-44c6-ad93-064c164fc933"
      },
      "outputs": [
        {
          "output_type": "stream",
          "name": "stdout",
          "text": [
            "<class 'float'>\n"
          ]
        }
      ],
      "source": [
        "print(type(x))"
      ]
    },
    {
      "cell_type": "code",
      "execution_count": null,
      "metadata": {
        "id": "SwkIgJv5GUNH",
        "colab": {
          "base_uri": "https://localhost:8080/"
        },
        "outputId": "f22509a9-86d5-48c7-88dd-2962a302f4ed"
      },
      "outputs": [
        {
          "output_type": "stream",
          "name": "stdout",
          "text": [
            "3 4 6 27\n"
          ]
        }
      ],
      "source": [
        "y=3\n",
        "print(y,y+1,y*2,y**3)"
      ]
    },
    {
      "cell_type": "markdown",
      "metadata": {
        "id": "Eg4SJX5NGUNH"
      },
      "source": [
        "## Booleans"
      ]
    },
    {
      "cell_type": "code",
      "execution_count": null,
      "metadata": {
        "id": "cj9KtEAlGUNI"
      },
      "outputs": [],
      "source": [
        "t=True\n",
        "f=False"
      ]
    },
    {
      "cell_type": "code",
      "execution_count": null,
      "metadata": {
        "id": "s0O8OgDuGUNJ",
        "colab": {
          "base_uri": "https://localhost:8080/"
        },
        "outputId": "c1c7efc3-a243-4ade-cd54-2d18c3211e2b"
      },
      "outputs": [
        {
          "output_type": "stream",
          "name": "stdout",
          "text": [
            "<class 'bool'>\n"
          ]
        }
      ],
      "source": [
        "print(type(t))"
      ]
    },
    {
      "cell_type": "code",
      "execution_count": null,
      "metadata": {
        "id": "whRg8FKwGUNJ",
        "colab": {
          "base_uri": "https://localhost:8080/"
        },
        "outputId": "48f923d5-a1cc-4a08-c387-30b59857b2c9"
      },
      "outputs": [
        {
          "output_type": "stream",
          "name": "stdout",
          "text": [
            "False\n"
          ]
        }
      ],
      "source": [
        "print(t and f)"
      ]
    },
    {
      "cell_type": "code",
      "execution_count": null,
      "metadata": {
        "id": "B9MwRndrGUNK",
        "colab": {
          "base_uri": "https://localhost:8080/"
        },
        "outputId": "23c4599d-a63f-407c-9309-c9ddc3ddd676"
      },
      "outputs": [
        {
          "output_type": "stream",
          "name": "stdout",
          "text": [
            "True\n"
          ]
        }
      ],
      "source": [
        "print(t or f)"
      ]
    },
    {
      "cell_type": "code",
      "execution_count": null,
      "metadata": {
        "id": "Bs5y4hoeGUNK",
        "colab": {
          "base_uri": "https://localhost:8080/"
        },
        "outputId": "2b30b571-def5-4581-84f2-08a015b9f72e"
      },
      "outputs": [
        {
          "output_type": "stream",
          "name": "stdout",
          "text": [
            "False\n"
          ]
        }
      ],
      "source": [
        "print(not t)"
      ]
    },
    {
      "cell_type": "code",
      "execution_count": null,
      "metadata": {
        "id": "NUykinN_GUNL",
        "colab": {
          "base_uri": "https://localhost:8080/"
        },
        "outputId": "f3115ffd-9a00-4440-99ec-0c56ea6eed39"
      },
      "outputs": [
        {
          "output_type": "stream",
          "name": "stdout",
          "text": [
            "True\n"
          ]
        }
      ],
      "source": [
        "print(t!=f)"
      ]
    },
    {
      "cell_type": "markdown",
      "metadata": {
        "id": "nRsg3EWoGUNL"
      },
      "source": [
        "## Strings"
      ]
    },
    {
      "cell_type": "code",
      "execution_count": null,
      "metadata": {
        "id": "pq07ITpLGUNL"
      },
      "outputs": [],
      "source": [
        "hello='hello'\n",
        "world='world'"
      ]
    },
    {
      "cell_type": "code",
      "execution_count": null,
      "metadata": {
        "id": "dZtdpv5TGUNN",
        "colab": {
          "base_uri": "https://localhost:8080/"
        },
        "outputId": "ac7fb4a1-14a8-4c2f-ac55-6f39e5abb1ec"
      },
      "outputs": [
        {
          "output_type": "stream",
          "name": "stdout",
          "text": [
            "hello\n"
          ]
        }
      ],
      "source": [
        "print(hello)"
      ]
    },
    {
      "cell_type": "code",
      "execution_count": null,
      "metadata": {
        "id": "F9J8ld6ZGUNO",
        "colab": {
          "base_uri": "https://localhost:8080/"
        },
        "outputId": "da3a8cd9-2f19-4466-e85c-a010eda37ecf"
      },
      "outputs": [
        {
          "output_type": "stream",
          "name": "stdout",
          "text": [
            "5\n"
          ]
        }
      ],
      "source": [
        "print(len(hello))"
      ]
    },
    {
      "cell_type": "code",
      "execution_count": null,
      "metadata": {
        "id": "UwwWqh9sGUNO",
        "colab": {
          "base_uri": "https://localhost:8080/"
        },
        "outputId": "06a4cb4c-0d06-4871-a710-7b135a5b766c"
      },
      "outputs": [
        {
          "output_type": "stream",
          "name": "stdout",
          "text": [
            "hello world\n"
          ]
        }
      ],
      "source": [
        "hw=hello+' '+world\n",
        "print(hw)"
      ]
    },
    {
      "cell_type": "code",
      "execution_count": null,
      "metadata": {
        "id": "C1kl5ngYGUNP",
        "colab": {
          "base_uri": "https://localhost:8080/"
        },
        "outputId": "d19f8613-3a68-49ff-8208-da96c8d10815"
      },
      "outputs": [
        {
          "output_type": "stream",
          "name": "stdout",
          "text": [
            "bookbook\n"
          ]
        }
      ],
      "source": [
        "h='book'*2\n",
        "print(h)"
      ]
    },
    {
      "cell_type": "code",
      "execution_count": null,
      "metadata": {
        "id": "YhOw566UGUNP",
        "colab": {
          "base_uri": "https://localhost:8080/"
        },
        "outputId": "2654468c-dba1-4378-dd26-53946baaf16f"
      },
      "outputs": [
        {
          "output_type": "stream",
          "name": "stdout",
          "text": [
            "I am 24 years old\n"
          ]
        }
      ],
      "source": [
        "a=25\n",
        "s=\"24\"\n",
        "print(\"I am %s years old\" % (s))"
      ]
    },
    {
      "cell_type": "code",
      "execution_count": null,
      "metadata": {
        "id": "N4H_W2hPGUNQ",
        "colab": {
          "base_uri": "https://localhost:8080/"
        },
        "outputId": "a5473950-4b35-4eb1-ab81-372bb562770c"
      },
      "outputs": [
        {
          "output_type": "stream",
          "name": "stdout",
          "text": [
            "Mohammad is 20 years old. His height is 1.80 Cm.\n"
          ]
        }
      ],
      "source": [
        "name = 'Mohammad'\n",
        "age = 20\n",
        "height = 1.8\n",
        "print('%s is %d years old. His height is %.2f Cm.' % (name, age, height))"
      ]
    },
    {
      "cell_type": "markdown",
      "metadata": {
        "id": "ZnPJZIXtGUNQ"
      },
      "source": [
        "# If Statments"
      ]
    },
    {
      "cell_type": "raw",
      "metadata": {
        "id": "KHWXWCoxGUNQ"
      },
      "source": [
        "if condition1 :\n",
        "    commands1\n",
        "elif condition2 :\n",
        "    commands2\n",
        "else:\n",
        "    commands3\n",
        "commands4"
      ]
    },
    {
      "cell_type": "code",
      "execution_count": null,
      "metadata": {
        "id": "PbMGEnQsGUNR",
        "colab": {
          "base_uri": "https://localhost:8080/"
        },
        "outputId": "458d21bd-8fe5-492d-f829-6cf5c8e5ca6d"
      },
      "outputs": [
        {
          "output_type": "stream",
          "name": "stdout",
          "text": [
            "first one\n"
          ]
        }
      ],
      "source": [
        "a = 15\n",
        "b = 10\n",
        "if a != b:\n",
        "    if a > b :\n",
        "        print(\"first one\")\n",
        "    else:\n",
        "        print(\"second one\")\n",
        "else:\n",
        "    print(\"equal\")"
      ]
    },
    {
      "cell_type": "markdown",
      "metadata": {
        "id": "7jY1x_BrGUNS"
      },
      "source": [
        "# Loops"
      ]
    },
    {
      "cell_type": "markdown",
      "metadata": {
        "id": "G9aHGQewGUNS"
      },
      "source": [
        "## While"
      ]
    },
    {
      "cell_type": "raw",
      "metadata": {
        "id": "4QKMehbEGUNT"
      },
      "source": [
        "while condition:\n",
        "    commands"
      ]
    },
    {
      "cell_type": "code",
      "execution_count": null,
      "metadata": {
        "id": "VtoPUDPUGUNT",
        "colab": {
          "base_uri": "https://localhost:8080/"
        },
        "outputId": "aeae2af8-a469-4530-a59f-dddb5e09d337"
      },
      "outputs": [
        {
          "output_type": "stream",
          "name": "stdout",
          "text": [
            "0\n",
            "1\n",
            "2\n",
            "3\n",
            "4\n",
            "5\n"
          ]
        }
      ],
      "source": [
        "a=0\n",
        "while a<=5:\n",
        "    print(a)\n",
        "    a=a+1"
      ]
    },
    {
      "cell_type": "markdown",
      "metadata": {
        "id": "0ObYzf0BGUNV"
      },
      "source": [
        "## for"
      ]
    },
    {
      "cell_type": "code",
      "execution_count": null,
      "metadata": {
        "id": "uVxoKABMGUNV",
        "colab": {
          "base_uri": "https://localhost:8080/"
        },
        "outputId": "45a463d5-d3e4-423e-c355-77eb96c66166"
      },
      "outputs": [
        {
          "output_type": "stream",
          "name": "stdout",
          "text": [
            "0\n",
            "1\n",
            "2\n",
            "3\n",
            "4\n"
          ]
        }
      ],
      "source": [
        "for i in range(5):\n",
        "    print(i)"
      ]
    },
    {
      "cell_type": "code",
      "execution_count": null,
      "metadata": {
        "id": "UXqP8Et8GUNV",
        "colab": {
          "base_uri": "https://localhost:8080/"
        },
        "outputId": "08717574-e180-4c38-f0b5-7a098fb33625"
      },
      "outputs": [
        {
          "output_type": "stream",
          "name": "stdout",
          "text": [
            "not prime\n"
          ]
        }
      ],
      "source": [
        "number = 10\n",
        "for i in range(2, number):\n",
        "    if number % i == 0:\n",
        "        print(\"not prime\")\n",
        "        break\n",
        "else:\n",
        "    print(\"prime\")"
      ]
    },
    {
      "cell_type": "code",
      "execution_count": null,
      "metadata": {
        "id": "QZ9Qvo__GUNW",
        "colab": {
          "base_uri": "https://localhost:8080/"
        },
        "outputId": "47969248-21ec-4e61-8574-bc21a768cb0d"
      },
      "outputs": [
        {
          "output_type": "stream",
          "name": "stdout",
          "text": [
            "Your number is a prime number\n"
          ]
        }
      ],
      "source": [
        "number = 13\n",
        "i = 2\n",
        "while i < number:\n",
        "    if number % i == 0:\n",
        "        print (\"Your number is NOT a prime number!\")\n",
        "        break\n",
        "    i = i + 1\n",
        "else:\n",
        "    print(\"Your number is a prime number\");"
      ]
    },
    {
      "cell_type": "markdown",
      "metadata": {
        "id": "iRRzM_1fGUNW"
      },
      "source": [
        "# Containers"
      ]
    },
    {
      "cell_type": "markdown",
      "metadata": {
        "id": "RoOj8ypLGUNX"
      },
      "source": [
        "## List"
      ]
    },
    {
      "cell_type": "code",
      "execution_count": null,
      "metadata": {
        "id": "1-SUZM7BGUNX",
        "colab": {
          "base_uri": "https://localhost:8080/"
        },
        "outputId": "1496baa0-2210-4f4a-873f-0cbe4f0e8649"
      },
      "outputs": [
        {
          "output_type": "stream",
          "name": "stdout",
          "text": [
            "[3, 1, 2]\n",
            "3\n",
            "1\n"
          ]
        }
      ],
      "source": [
        "x=[3,1,2]\n",
        "print(x)\n",
        "print(x[0])\n",
        "print(x[-2])"
      ]
    },
    {
      "cell_type": "code",
      "execution_count": null,
      "metadata": {
        "id": "lw-8YwpQGUNY",
        "colab": {
          "base_uri": "https://localhost:8080/"
        },
        "outputId": "7b1f9a7a-fe25-480c-9309-44ee6c929aff"
      },
      "outputs": [
        {
          "output_type": "stream",
          "name": "stdout",
          "text": [
            "[3, 1, 'ali']\n"
          ]
        }
      ],
      "source": [
        "x[2]='ali'\n",
        "print(x)"
      ]
    },
    {
      "cell_type": "code",
      "execution_count": null,
      "metadata": {
        "id": "FboVXaY-GUNY",
        "colab": {
          "base_uri": "https://localhost:8080/"
        },
        "outputId": "4cf3551c-ad23-44dd-b62e-33da414e47f1"
      },
      "outputs": [
        {
          "output_type": "stream",
          "name": "stdout",
          "text": [
            "[3, 1, 'ali', 'zahra']\n"
          ]
        }
      ],
      "source": [
        "x.append('zahra')\n",
        "print(x)"
      ]
    },
    {
      "cell_type": "code",
      "execution_count": null,
      "metadata": {
        "id": "ydAwp9G0GUNZ",
        "colab": {
          "base_uri": "https://localhost:8080/"
        },
        "outputId": "bb360649-d45b-466e-ea8e-62875df2a964"
      },
      "outputs": [
        {
          "output_type": "stream",
          "name": "stdout",
          "text": [
            "zahra\n",
            "[3, 1, 'ali']\n"
          ]
        }
      ],
      "source": [
        "xs=x.pop()\n",
        "print(xs)\n",
        "print(x)"
      ]
    },
    {
      "cell_type": "code",
      "source": [
        "x=[3, 1, 'ali', 'zahra']\n",
        "x[0:-2]"
      ],
      "metadata": {
        "colab": {
          "base_uri": "https://localhost:8080/"
        },
        "id": "uONlVpb_MkU_",
        "outputId": "75078747-6c86-49a5-a7c4-b50c67a4a26f"
      },
      "execution_count": null,
      "outputs": [
        {
          "output_type": "execute_result",
          "data": {
            "text/plain": [
              "[3, 1]"
            ]
          },
          "metadata": {},
          "execution_count": 36
        }
      ]
    },
    {
      "cell_type": "code",
      "execution_count": null,
      "metadata": {
        "id": "XQlJNnm-GUNZ",
        "colab": {
          "base_uri": "https://localhost:8080/"
        },
        "outputId": "158f8ec6-a2e2-4ee6-912a-a4b875060bfd"
      },
      "outputs": [
        {
          "output_type": "stream",
          "name": "stdout",
          "text": [
            "['Ali', 1, 3, 4]\n"
          ]
        }
      ],
      "source": [
        "L = [1, 3, 4]\n",
        "L.insert(0, 'Ali')\n",
        "print(L)"
      ]
    },
    {
      "cell_type": "code",
      "execution_count": null,
      "metadata": {
        "id": "nXXDsxabGUNZ",
        "colab": {
          "base_uri": "https://localhost:8080/"
        },
        "outputId": "681ae72c-42be-4309-a920-c7838ba06ac4"
      },
      "outputs": [
        {
          "output_type": "stream",
          "name": "stdout",
          "text": [
            "[1, 3]\n",
            "[1, 3]\n"
          ]
        }
      ],
      "source": [
        "a = [1, 2, 3]\n",
        "b = a\n",
        "b.pop(1)\n",
        "print(b)\n",
        "print(a)"
      ]
    },
    {
      "cell_type": "code",
      "execution_count": null,
      "metadata": {
        "id": "mXEJ4JnIGUNa",
        "colab": {
          "base_uri": "https://localhost:8080/"
        },
        "outputId": "ddce580b-98aa-45dc-ebca-332290bd2e50"
      },
      "outputs": [
        {
          "output_type": "stream",
          "name": "stdout",
          "text": [
            "[1, 3]\n",
            "[1, 2, 3]\n"
          ]
        }
      ],
      "source": [
        "a = [1, 2, 3]\n",
        "b = a.copy()\n",
        "b.pop(1)\n",
        "print(b)\n",
        "print(a)"
      ]
    },
    {
      "cell_type": "code",
      "execution_count": null,
      "metadata": {
        "id": "xuj38yDOGUNa",
        "colab": {
          "base_uri": "https://localhost:8080/"
        },
        "outputId": "c5e5f253-956b-40b5-e69e-cd2f2b5537d8"
      },
      "outputs": [
        {
          "output_type": "stream",
          "name": "stdout",
          "text": [
            "[0, 1, 2, 3, 4, 5, 6, 7, 8, 9]\n"
          ]
        }
      ],
      "source": [
        "l = [i for i in range(10)]\n",
        "print(l)"
      ]
    },
    {
      "cell_type": "code",
      "execution_count": null,
      "metadata": {
        "id": "gb_1O3OlGUNb",
        "colab": {
          "base_uri": "https://localhost:8080/"
        },
        "outputId": "d24c8f64-0b6b-46bf-fe86-11856092da67"
      },
      "outputs": [
        {
          "output_type": "stream",
          "name": "stdout",
          "text": [
            "[[0, 0, 0, 0, 0, 0], [0, 0, 0, 0, 0, 0], [0, 0, 0, 0, 0, 0], [0, 0, 0, 0, 0, 0], [0, 0, 0, 0, 0, 0]]\n"
          ]
        }
      ],
      "source": [
        "b=[[0 for j in range(6)] for i in range(5)] #2D\n",
        "print(b)"
      ]
    },
    {
      "cell_type": "markdown",
      "metadata": {
        "id": "DMY819kVGUNc"
      },
      "source": [
        "### Slicing"
      ]
    },
    {
      "cell_type": "code",
      "execution_count": null,
      "metadata": {
        "id": "T7aVXj0rGUNc",
        "colab": {
          "base_uri": "https://localhost:8080/"
        },
        "outputId": "a6e07652-f015-4813-bcda-a9d52b302f27"
      },
      "outputs": [
        {
          "output_type": "stream",
          "name": "stdout",
          "text": [
            "[0, 1, 2, 3, 4]\n"
          ]
        }
      ],
      "source": [
        "nums=list(range(5))\n",
        "print(nums)"
      ]
    },
    {
      "cell_type": "code",
      "execution_count": null,
      "metadata": {
        "id": "MXJdZfd8GUNd",
        "colab": {
          "base_uri": "https://localhost:8080/"
        },
        "outputId": "2f132a66-e9da-4398-e1af-e645eceb3088"
      },
      "outputs": [
        {
          "output_type": "stream",
          "name": "stdout",
          "text": [
            "[2, 3]\n"
          ]
        }
      ],
      "source": [
        "print(nums[2:4])"
      ]
    },
    {
      "cell_type": "code",
      "execution_count": null,
      "metadata": {
        "id": "vTJtbz0yGUNd",
        "colab": {
          "base_uri": "https://localhost:8080/"
        },
        "outputId": "1e11f5f0-15e4-43f5-a08b-83adc637f499"
      },
      "outputs": [
        {
          "output_type": "stream",
          "name": "stdout",
          "text": [
            "[2, 3, 4]\n"
          ]
        }
      ],
      "source": [
        "print(nums[2:])"
      ]
    },
    {
      "cell_type": "code",
      "execution_count": null,
      "metadata": {
        "scrolled": true,
        "id": "pHjedJzAGUNe",
        "colab": {
          "base_uri": "https://localhost:8080/"
        },
        "outputId": "117be4b9-5b88-4bc2-deee-0b6bc68a2e57"
      },
      "outputs": [
        {
          "output_type": "stream",
          "name": "stdout",
          "text": [
            "[0, 1]\n"
          ]
        }
      ],
      "source": [
        "print(nums[:2])"
      ]
    },
    {
      "cell_type": "code",
      "execution_count": null,
      "metadata": {
        "id": "6mwgrbv5GUNe",
        "colab": {
          "base_uri": "https://localhost:8080/"
        },
        "outputId": "e5f28cc1-3207-4904-b78e-01be6901e2ec"
      },
      "outputs": [
        {
          "output_type": "stream",
          "name": "stdout",
          "text": [
            "[0, 1, 2, 3, 4]\n"
          ]
        }
      ],
      "source": [
        "print(nums[:])"
      ]
    },
    {
      "cell_type": "code",
      "execution_count": null,
      "metadata": {
        "id": "gnYfxQ6JGUNf",
        "colab": {
          "base_uri": "https://localhost:8080/"
        },
        "outputId": "88d27cae-8e21-4cfe-b98a-7693b6ba7e40"
      },
      "outputs": [
        {
          "output_type": "stream",
          "name": "stdout",
          "text": [
            "[0, 1, 2, 3]\n"
          ]
        }
      ],
      "source": [
        "print(nums[:-1])"
      ]
    },
    {
      "cell_type": "code",
      "execution_count": null,
      "metadata": {
        "id": "S4wqp97zGUNf",
        "colab": {
          "base_uri": "https://localhost:8080/"
        },
        "outputId": "f6ca48dd-246e-4270-eed4-8f438e73018b"
      },
      "outputs": [
        {
          "output_type": "stream",
          "name": "stdout",
          "text": [
            "[0, 1, 8, 9, 4]\n"
          ]
        }
      ],
      "source": [
        "nums[2:4]=[8,9]\n",
        "print(nums)"
      ]
    },
    {
      "cell_type": "markdown",
      "metadata": {
        "id": "9UVzEDBBGUNf"
      },
      "source": [
        "### Loops"
      ]
    },
    {
      "cell_type": "code",
      "execution_count": null,
      "metadata": {
        "id": "QwVZPOrWGUNg",
        "colab": {
          "base_uri": "https://localhost:8080/"
        },
        "outputId": "75c30de9-e8d4-4532-d162-0d0830774be8"
      },
      "outputs": [
        {
          "output_type": "stream",
          "name": "stdout",
          "text": [
            "cat\n",
            "dog\n",
            "monkey\n"
          ]
        }
      ],
      "source": [
        "## You can loop over the elements of a list \n",
        "\n",
        "animals=['cat','dog','monkey']\n",
        "for i in animals:\n",
        "    print(i)"
      ]
    },
    {
      "cell_type": "code",
      "execution_count": null,
      "metadata": {
        "id": "tEwUElLdGUNg",
        "colab": {
          "base_uri": "https://localhost:8080/"
        },
        "outputId": "8674f9b3-c694-4f0a-db30-d8ba62728fc4"
      },
      "outputs": [
        {
          "output_type": "stream",
          "name": "stdout",
          "text": [
            "[0, 1, 4, 9, 16]\n"
          ]
        }
      ],
      "source": [
        "nums = [0, 1, 2, 3, 4]\n",
        "squares = []\n",
        "for x in nums:\n",
        "    squares.append(x ** 2)\n",
        "print(squares) "
      ]
    },
    {
      "cell_type": "code",
      "execution_count": null,
      "metadata": {
        "id": "CIHDz5IPGUNh",
        "colab": {
          "base_uri": "https://localhost:8080/"
        },
        "outputId": "921debfd-5b1f-40b5-bdd4-b4903448d128"
      },
      "outputs": [
        {
          "output_type": "stream",
          "name": "stdout",
          "text": [
            "[0, 1, 4, 9, 16]\n"
          ]
        }
      ],
      "source": [
        "nums = list(range(5))\n",
        "squares = [x ** 2 for x in nums]\n",
        "print(squares)"
      ]
    },
    {
      "cell_type": "markdown",
      "metadata": {
        "id": "BxYx20u9GUNh"
      },
      "source": [
        "## Dictionary"
      ]
    },
    {
      "cell_type": "code",
      "execution_count": null,
      "metadata": {
        "id": "8GIUxClIGUNh",
        "colab": {
          "base_uri": "https://localhost:8080/"
        },
        "outputId": "3dc2996b-8b01-42de-9cea-6a8e554e76fc"
      },
      "outputs": [
        {
          "output_type": "stream",
          "name": "stdout",
          "text": [
            "{1: 'cute', 'dog': 'furry'}\n"
          ]
        }
      ],
      "source": [
        "d = {1: 'cute', 'dog': 'furry'}\n",
        "print(d)"
      ]
    },
    {
      "cell_type": "code",
      "execution_count": null,
      "metadata": {
        "id": "iRKynbWIGUNh",
        "colab": {
          "base_uri": "https://localhost:8080/"
        },
        "outputId": "27d747f6-b336-40e8-a6e6-acfd0f33dfe0"
      },
      "outputs": [
        {
          "output_type": "stream",
          "name": "stdout",
          "text": [
            "cute\n"
          ]
        }
      ],
      "source": [
        "print(d[1])"
      ]
    },
    {
      "cell_type": "code",
      "execution_count": null,
      "metadata": {
        "id": "GbJ4qEdaGUNi",
        "colab": {
          "base_uri": "https://localhost:8080/"
        },
        "outputId": "bd1f0c44-acc7-4125-ea6f-eb4b7fc08ff5"
      },
      "outputs": [
        {
          "output_type": "stream",
          "name": "stdout",
          "text": [
            "False\n"
          ]
        }
      ],
      "source": [
        "print('Fish' in d)"
      ]
    },
    {
      "cell_type": "code",
      "execution_count": null,
      "metadata": {
        "id": "U4Fxr3SMGUNi",
        "colab": {
          "base_uri": "https://localhost:8080/"
        },
        "outputId": "a7eef784-7ffb-4b6a-cd4a-8f8bd60f23c7"
      },
      "outputs": [
        {
          "output_type": "stream",
          "name": "stdout",
          "text": [
            "{1: 'cute', 'dog': 'furry', 'fish': 'wet'}\n"
          ]
        }
      ],
      "source": [
        "d['fish'] = 'wet'\n",
        "print(d)"
      ]
    },
    {
      "cell_type": "code",
      "execution_count": null,
      "metadata": {
        "id": "Xes1hJDNGUNi",
        "colab": {
          "base_uri": "https://localhost:8080/"
        },
        "outputId": "cc444139-01c5-4ed9-c8df-6055ac491971"
      },
      "outputs": [
        {
          "output_type": "stream",
          "name": "stdout",
          "text": [
            "{1: 'cute', 'dog': 'furry'}\n"
          ]
        }
      ],
      "source": [
        "del d['fish']\n",
        "print(d)"
      ]
    },
    {
      "cell_type": "markdown",
      "metadata": {
        "id": "oZJatGpaGUNj"
      },
      "source": [
        "### Loops"
      ]
    },
    {
      "cell_type": "code",
      "execution_count": null,
      "metadata": {
        "id": "O_GT9y5wGUNj",
        "colab": {
          "base_uri": "https://localhost:8080/"
        },
        "outputId": "388833ab-6cf4-4f2c-91d3-1f86ef546aab"
      },
      "outputs": [
        {
          "output_type": "stream",
          "name": "stdout",
          "text": [
            "A person has 2 legs\n",
            "A cat has 4 legs\n",
            "A spider has 8 legs\n"
          ]
        }
      ],
      "source": [
        "#iterate over the keys in a dictionary\n",
        "d = {'person': 2, 'cat': 4, 'spider': 8}\n",
        "for animal in d:\n",
        "    legs = d[animal]\n",
        "    print('A %s has %d legs' % (animal, legs))"
      ]
    },
    {
      "cell_type": "code",
      "execution_count": null,
      "metadata": {
        "id": "akbR3bWMGUNj",
        "colab": {
          "base_uri": "https://localhost:8080/"
        },
        "outputId": "69ba5b08-8aaa-46f0-dcb1-8a4cea4f880d"
      },
      "outputs": [
        {
          "output_type": "stream",
          "name": "stdout",
          "text": [
            "A person has 2 legs\n",
            "A cat has 4 legs\n",
            "A spider has 8 legs\n"
          ]
        }
      ],
      "source": [
        "# If you want access to keys and their corresponding values, \n",
        "#use the items method:\n",
        "d = {'person': 2, 'cat': 4, 'spider': 8}\n",
        "for animal, legs in d.items():\n",
        "    print('A %s has %d legs' % (animal, legs))"
      ]
    },
    {
      "cell_type": "markdown",
      "metadata": {
        "id": "JDHV_pO-GUNk"
      },
      "source": [
        "# Functions"
      ]
    },
    {
      "cell_type": "raw",
      "metadata": {
        "id": "1tKCFTJpGUNk"
      },
      "source": [
        "def function(parameter1,parameter2,...,parameterk):\n",
        "    commands\n",
        "    return value"
      ]
    },
    {
      "cell_type": "code",
      "execution_count": null,
      "metadata": {
        "scrolled": true,
        "id": "JWl-85m5GUNl",
        "colab": {
          "base_uri": "https://localhost:8080/"
        },
        "outputId": "ec5c5f61-0b0f-4e3e-d667-3d571fb5d859"
      },
      "outputs": [
        {
          "output_type": "stream",
          "name": "stdout",
          "text": [
            "23\n"
          ]
        }
      ],
      "source": [
        "def getMax(a,b):\n",
        "    if a > b:\n",
        "        return a\n",
        "    else:\n",
        "        return b\n",
        "a = 10\n",
        "b = 23\n",
        "c=getMax(a, b)\n",
        "print(c)"
      ]
    },
    {
      "cell_type": "markdown",
      "metadata": {
        "id": "4Bn5ek8qGUNl"
      },
      "source": [
        "# Numpy"
      ]
    },
    {
      "cell_type": "code",
      "execution_count": null,
      "metadata": {
        "id": "Oy3Zk_A6GUNm"
      },
      "outputs": [],
      "source": [
        "import numpy"
      ]
    },
    {
      "cell_type": "code",
      "execution_count": null,
      "metadata": {
        "id": "vHArpWewGUNm"
      },
      "outputs": [],
      "source": [
        "import numpy as np"
      ]
    },
    {
      "cell_type": "code",
      "execution_count": null,
      "metadata": {
        "id": "5WN9kODrGUNm",
        "colab": {
          "base_uri": "https://localhost:8080/"
        },
        "outputId": "2a298d2c-b13d-412b-d7bd-81b51d47ab64"
      },
      "outputs": [
        {
          "output_type": "stream",
          "name": "stdout",
          "text": [
            "<class 'numpy.ndarray'>\n"
          ]
        }
      ],
      "source": [
        "# 1D array\n",
        "a=np.array([1,2,3])\n",
        "\n",
        "print(type(a))"
      ]
    },
    {
      "cell_type": "code",
      "execution_count": null,
      "metadata": {
        "id": "02MDXaThGUNm",
        "colab": {
          "base_uri": "https://localhost:8080/"
        },
        "outputId": "57693385-254b-48ce-8c81-9584019676b2"
      },
      "outputs": [
        {
          "output_type": "stream",
          "name": "stdout",
          "text": [
            "(3,)\n"
          ]
        }
      ],
      "source": [
        "print(a.shape)"
      ]
    },
    {
      "cell_type": "code",
      "execution_count": null,
      "metadata": {
        "id": "_dzynZ3oGUNm",
        "colab": {
          "base_uri": "https://localhost:8080/"
        },
        "outputId": "bfa7b124-2deb-4dae-d8b1-d0f56a9a3d86"
      },
      "outputs": [
        {
          "output_type": "stream",
          "name": "stdout",
          "text": [
            "1 2 3\n"
          ]
        }
      ],
      "source": [
        "print(a[0], a[1], a[2])"
      ]
    },
    {
      "cell_type": "code",
      "execution_count": null,
      "metadata": {
        "id": "x0hRkMxmGUNm",
        "colab": {
          "base_uri": "https://localhost:8080/"
        },
        "outputId": "1cad6b39-9819-4780-8962-672de3511298"
      },
      "outputs": [
        {
          "output_type": "stream",
          "name": "stdout",
          "text": [
            "[5 2 3]\n"
          ]
        }
      ],
      "source": [
        "a[0]=5\n",
        "print(a)"
      ]
    },
    {
      "cell_type": "code",
      "execution_count": null,
      "metadata": {
        "id": "iOgCM3eKGUNn",
        "colab": {
          "base_uri": "https://localhost:8080/"
        },
        "outputId": "bcb4a986-c52a-4f8f-bd12-fbeeb6971631"
      },
      "outputs": [
        {
          "output_type": "execute_result",
          "data": {
            "text/plain": [
              "(2, 3)"
            ]
          },
          "metadata": {},
          "execution_count": 56
        }
      ],
      "source": [
        "c=np.array([[1,2,3],[5,6,7]])\n",
        "c\n",
        "c.shape"
      ]
    },
    {
      "cell_type": "code",
      "execution_count": null,
      "metadata": {
        "id": "lfe3xlvYGUNn",
        "colab": {
          "base_uri": "https://localhost:8080/"
        },
        "outputId": "cfefc71f-cd03-4152-89c9-bdb43369881c"
      },
      "outputs": [
        {
          "output_type": "stream",
          "name": "stdout",
          "text": [
            "[[1 2 3]\n",
            " [4 5 6]]\n",
            "(2, 3)\n"
          ]
        }
      ],
      "source": [
        "# 2D array\n",
        "b=np.array([[1,2,3],[4,5,6]])\n",
        "print(b)\n",
        "print(b.shape)"
      ]
    },
    {
      "cell_type": "code",
      "execution_count": null,
      "metadata": {
        "id": "k5mw80nmGUNo",
        "colab": {
          "base_uri": "https://localhost:8080/"
        },
        "outputId": "89596f03-a871-4824-9588-4c2712a8cc44"
      },
      "outputs": [
        {
          "output_type": "stream",
          "name": "stdout",
          "text": [
            "[1 2 3]\n",
            "[4 5 6]\n"
          ]
        }
      ],
      "source": [
        "# print rows\n",
        "print(b[0])\n",
        "print(b[1])"
      ]
    },
    {
      "cell_type": "code",
      "execution_count": null,
      "metadata": {
        "id": "tU7DghhAGUNo",
        "colab": {
          "base_uri": "https://localhost:8080/"
        },
        "outputId": "fda17595-8990-46a5-a7fe-ed6069429c0f"
      },
      "outputs": [
        {
          "output_type": "stream",
          "name": "stdout",
          "text": [
            "1 2 4\n",
            "1 2 4\n",
            "[4 5 6]\n"
          ]
        }
      ],
      "source": [
        "# print elements\n",
        "print(b[0][0], b[0][1], b[1][0])\n",
        "print(b[0, 0], b[0, 1], b[1, 0])\n",
        "print(b[1][:])"
      ]
    },
    {
      "cell_type": "markdown",
      "metadata": {
        "id": "2IsjSh9-GUNo"
      },
      "source": [
        "## Methods of array Creation"
      ]
    },
    {
      "cell_type": "code",
      "execution_count": null,
      "metadata": {
        "id": "iZbtpCbkGUNq",
        "colab": {
          "base_uri": "https://localhost:8080/"
        },
        "outputId": "7b2ec2b3-b04c-4012-dbe9-21d8586cbda3"
      },
      "outputs": [
        {
          "output_type": "stream",
          "name": "stdout",
          "text": [
            "[[0. 0. 0. 0. 0. 0. 0.]\n",
            " [0. 0. 0. 0. 0. 0. 0.]\n",
            " [0. 0. 0. 0. 0. 0. 0.]\n",
            " [0. 0. 0. 0. 0. 0. 0.]]\n"
          ]
        }
      ],
      "source": [
        "# Create an array of all zeros\n",
        "a=np.zeros((4,7))\n",
        "print(a)"
      ]
    },
    {
      "cell_type": "code",
      "execution_count": null,
      "metadata": {
        "id": "fV0YBlk-GUNq",
        "colab": {
          "base_uri": "https://localhost:8080/"
        },
        "outputId": "ff2ff606-81ef-4955-bbee-9500300dbb9c"
      },
      "outputs": [
        {
          "output_type": "stream",
          "name": "stdout",
          "text": [
            "[[1. 1. 1.]\n",
            " [1. 1. 1.]]\n"
          ]
        }
      ],
      "source": [
        "# Create an array of all ones\n",
        "b=np.ones((2,3))\n",
        "print(b)"
      ]
    },
    {
      "cell_type": "code",
      "execution_count": null,
      "metadata": {
        "id": "H5Q9jUVjGUNq",
        "colab": {
          "base_uri": "https://localhost:8080/"
        },
        "outputId": "522fefd5-667b-48e1-c48b-694e1856146e"
      },
      "outputs": [
        {
          "output_type": "stream",
          "name": "stdout",
          "text": [
            "[[6 6 6 6 6]\n",
            " [6 6 6 6 6]\n",
            " [6 6 6 6 6]]\n"
          ]
        }
      ],
      "source": [
        "# Create a constant array\n",
        "c=np.full((3,5),6)\n",
        "print(c)"
      ]
    },
    {
      "cell_type": "code",
      "execution_count": null,
      "metadata": {
        "id": "0mcAynUpGUNr",
        "colab": {
          "base_uri": "https://localhost:8080/"
        },
        "outputId": "6c32843c-31e4-465c-c465-09cbafbfd3de"
      },
      "outputs": [
        {
          "output_type": "stream",
          "name": "stdout",
          "text": [
            "[[1. 0. 0.]\n",
            " [0. 1. 0.]\n",
            " [0. 0. 1.]]\n"
          ]
        }
      ],
      "source": [
        "# Create an identity matrix\n",
        "d=np.eye(3)\n",
        "print(d)"
      ]
    },
    {
      "cell_type": "code",
      "execution_count": null,
      "metadata": {
        "scrolled": true,
        "id": "Oi-Gdv0yGUNr",
        "colab": {
          "base_uri": "https://localhost:8080/"
        },
        "outputId": "8c52e720-8d8d-4db2-d2de-538689466b6f"
      },
      "outputs": [
        {
          "output_type": "stream",
          "name": "stdout",
          "text": [
            "[[0.95817617 0.02527362]\n",
            " [0.40099977 0.91354674]\n",
            " [0.69918607 0.95802129]]\n"
          ]
        }
      ],
      "source": [
        "# Create an array filled with random values\n",
        "e=np.random.random((3,2))\n",
        "print(e)"
      ]
    },
    {
      "cell_type": "markdown",
      "metadata": {
        "id": "lgXdZyW1GUNr"
      },
      "source": [
        "## Array Indexing"
      ]
    },
    {
      "cell_type": "markdown",
      "metadata": {
        "id": "7r7nRzk1GUNs"
      },
      "source": [
        "### Slicing"
      ]
    },
    {
      "cell_type": "code",
      "execution_count": null,
      "metadata": {
        "id": "cncfKMBVGUNs",
        "colab": {
          "base_uri": "https://localhost:8080/"
        },
        "outputId": "13f08d00-922a-4dcc-b680-da170301dcf6"
      },
      "outputs": [
        {
          "output_type": "stream",
          "name": "stdout",
          "text": [
            "[[ 1  2  3  4]\n",
            " [ 5  6  7  8]\n",
            " [ 9 10 11 12]]\n",
            "[[2 3]\n",
            " [6 7]]\n"
          ]
        }
      ],
      "source": [
        "a = np.array([[1,2,3,4], [5,6,7,8], [9,10,11,12]])\n",
        "print(a)\n",
        "b=a[:2,1:3]\n",
        "print(b)"
      ]
    },
    {
      "cell_type": "code",
      "execution_count": null,
      "metadata": {
        "id": "-w4qcYqRGUNs",
        "colab": {
          "base_uri": "https://localhost:8080/"
        },
        "outputId": "0f5e2b29-c080-41e4-cbcb-c3408afdb74d"
      },
      "outputs": [
        {
          "output_type": "stream",
          "name": "stdout",
          "text": [
            "[[77  3]\n",
            " [ 6  7]]\n",
            "[[ 1 77  3  4]\n",
            " [ 5  6  7  8]\n",
            " [ 9 10 11 12]]\n"
          ]
        }
      ],
      "source": [
        "#A slice of an array is a view into the same data, so modifying it will modify the original array.\n",
        "b[0,0]=77\n",
        "print(b)\n",
        "print(a)"
      ]
    },
    {
      "cell_type": "code",
      "execution_count": null,
      "metadata": {
        "id": "hMsFwkUeGUNt",
        "colab": {
          "base_uri": "https://localhost:8080/"
        },
        "outputId": "131b08f9-2f17-476b-828b-c14fc44ad2d3"
      },
      "outputs": [
        {
          "output_type": "stream",
          "name": "stdout",
          "text": [
            "[[ 1 77  3  4]\n",
            " [ 5  6  7  8]\n",
            " [ 9 10 11 12]]\n",
            "[[80 77  3  4]\n",
            " [ 5  6  7  8]\n",
            " [ 9 10 11 12]]\n"
          ]
        }
      ],
      "source": [
        "c=a.copy()\n",
        "print(c)\n",
        "c[0,0]=80\n",
        "print(c)"
      ]
    },
    {
      "cell_type": "code",
      "execution_count": null,
      "metadata": {
        "id": "YVivxTxeGUNt",
        "colab": {
          "base_uri": "https://localhost:8080/"
        },
        "outputId": "6b9dff39-16a6-4e94-ce9a-1b25b53d8d01"
      },
      "outputs": [
        {
          "output_type": "stream",
          "name": "stdout",
          "text": [
            "[[ 1 77  3  4]\n",
            " [ 5  6  7  8]\n",
            " [ 9 10 11 12]]\n"
          ]
        }
      ],
      "source": [
        "print(a)"
      ]
    },
    {
      "cell_type": "code",
      "execution_count": null,
      "metadata": {
        "id": "byUQXuaIGUNu",
        "colab": {
          "base_uri": "https://localhost:8080/"
        },
        "outputId": "605e0d9f-057f-421b-ac3a-ad37eac7b201"
      },
      "outputs": [
        {
          "output_type": "stream",
          "name": "stdout",
          "text": [
            "[[ 5  6  7  8]\n",
            " [ 9 10 11 12]]\n",
            "(2, 4)\n"
          ]
        }
      ],
      "source": [
        "row_r1=a[1:3,:]\n",
        "print(row_r1)\n",
        "print(row_r1.shape)"
      ]
    },
    {
      "cell_type": "code",
      "execution_count": null,
      "metadata": {
        "id": "0I6VvIncGUNw",
        "colab": {
          "base_uri": "https://localhost:8080/"
        },
        "outputId": "66bef82e-349b-4c8d-a0c2-a9d5ed827846"
      },
      "outputs": [
        {
          "output_type": "stream",
          "name": "stdout",
          "text": [
            "[[77  3]\n",
            " [ 6  7]\n",
            " [10 11]]\n",
            "(3, 2)\n"
          ]
        }
      ],
      "source": [
        "col_r1=a[:,1]\n",
        "print(col_r1)\n",
        "print(col_r1.shape)"
      ]
    },
    {
      "cell_type": "markdown",
      "metadata": {
        "id": "Zag4aQnNGUNx"
      },
      "source": [
        "### Datatypes"
      ]
    },
    {
      "cell_type": "code",
      "execution_count": null,
      "metadata": {
        "id": "OLd64lbTGUNz",
        "colab": {
          "base_uri": "https://localhost:8080/"
        },
        "outputId": "4a74e343-9407-4529-ceda-1b8bca584817"
      },
      "outputs": [
        {
          "output_type": "stream",
          "name": "stdout",
          "text": [
            "int64\n"
          ]
        }
      ],
      "source": [
        "x = np.array([1, 2])\n",
        "print(x.dtype)"
      ]
    },
    {
      "cell_type": "code",
      "execution_count": null,
      "metadata": {
        "id": "zLsU2goPGUNz",
        "colab": {
          "base_uri": "https://localhost:8080/"
        },
        "outputId": "e8aa6f76-62ae-4f2b-a2bb-7c9925a7ff08"
      },
      "outputs": [
        {
          "output_type": "stream",
          "name": "stdout",
          "text": [
            "float64\n"
          ]
        }
      ],
      "source": [
        "x = np.array([1.0, 2.0])\n",
        "print(x.dtype)"
      ]
    },
    {
      "cell_type": "code",
      "execution_count": null,
      "metadata": {
        "id": "BVqzqUy5GUNz",
        "colab": {
          "base_uri": "https://localhost:8080/"
        },
        "outputId": "6b78a7d9-eafd-4d6b-9ac8-39921cb49b63"
      },
      "outputs": [
        {
          "output_type": "stream",
          "name": "stdout",
          "text": [
            "int64\n"
          ]
        }
      ],
      "source": [
        "x = np.array([1, 2], dtype='int64')\n",
        "print(x.dtype)"
      ]
    },
    {
      "cell_type": "markdown",
      "metadata": {
        "id": "wpD-MJZ8GUN0"
      },
      "source": [
        "### Array math"
      ]
    },
    {
      "cell_type": "code",
      "execution_count": null,
      "metadata": {
        "id": "MCoNu5_5GUN0"
      },
      "outputs": [],
      "source": [
        "# Basic mathematical functions operate elementwise on arrays,"
      ]
    },
    {
      "cell_type": "code",
      "execution_count": null,
      "metadata": {
        "id": "0EHnGIc8GUN0",
        "colab": {
          "base_uri": "https://localhost:8080/"
        },
        "outputId": "385d4772-6790-4699-f4c2-8e1f1c0ece9c"
      },
      "outputs": [
        {
          "output_type": "stream",
          "name": "stdout",
          "text": [
            "[[1. 2.]\n",
            " [3. 4.]]\n",
            "[[5. 6.]\n",
            " [7. 8.]]\n"
          ]
        }
      ],
      "source": [
        "x = np.array([[1,2],[3,4]], dtype=np.float64)\n",
        "y = np.array([[5,6],[7,8]], dtype=np.float64)\n",
        "print(x)\n",
        "print(y)"
      ]
    },
    {
      "cell_type": "code",
      "execution_count": null,
      "metadata": {
        "id": "D7sAu15CGUN1",
        "colab": {
          "base_uri": "https://localhost:8080/"
        },
        "outputId": "4af1c7d1-de09-41db-bb09-71e2e83d174b"
      },
      "outputs": [
        {
          "output_type": "stream",
          "name": "stdout",
          "text": [
            "[[ 6.  8.]\n",
            " [10. 12.]]\n",
            "[[ 6.  8.]\n",
            " [10. 12.]]\n"
          ]
        }
      ],
      "source": [
        "# Elementwise sum\n",
        "print(x + y)\n",
        "print(np.add(x, y))"
      ]
    },
    {
      "cell_type": "code",
      "execution_count": null,
      "metadata": {
        "id": "a4FYU2vdGUN1",
        "colab": {
          "base_uri": "https://localhost:8080/"
        },
        "outputId": "d1b0e224-28f4-4e0a-cc44-ae4ca3e7611b"
      },
      "outputs": [
        {
          "output_type": "stream",
          "name": "stdout",
          "text": [
            "[[-4. -4.]\n",
            " [-4. -4.]]\n",
            "[[-4. -4.]\n",
            " [-4. -4.]]\n"
          ]
        }
      ],
      "source": [
        "# Elementwise difference\n",
        "print(x - y)\n",
        "print(np.subtract(x, y))"
      ]
    },
    {
      "cell_type": "code",
      "execution_count": null,
      "metadata": {
        "id": "gZ046tQxGUN1",
        "colab": {
          "base_uri": "https://localhost:8080/"
        },
        "outputId": "49088872-5b18-4566-f035-9bfb7648227d"
      },
      "outputs": [
        {
          "output_type": "stream",
          "name": "stdout",
          "text": [
            "[[ 5. 12.]\n",
            " [21. 32.]]\n",
            "[[ 5. 12.]\n",
            " [21. 32.]]\n"
          ]
        }
      ],
      "source": [
        "# Elementwise product\n",
        "print(x * y)\n",
        "print(np.multiply(x, y))"
      ]
    },
    {
      "cell_type": "code",
      "execution_count": null,
      "metadata": {
        "id": "EaIM84LlGUN1",
        "colab": {
          "base_uri": "https://localhost:8080/"
        },
        "outputId": "1f2db298-8d8e-40cb-80fe-742046179c49"
      },
      "outputs": [
        {
          "output_type": "stream",
          "name": "stdout",
          "text": [
            "[[0.2        0.33333333]\n",
            " [0.42857143 0.5       ]]\n",
            "[[0.2        0.33333333]\n",
            " [0.42857143 0.5       ]]\n"
          ]
        }
      ],
      "source": [
        "# Elementwise division\n",
        "print(x / y)\n",
        "print(np.divide(x, y))"
      ]
    },
    {
      "cell_type": "code",
      "execution_count": null,
      "metadata": {
        "id": "ij8ij4j2GUN1",
        "colab": {
          "base_uri": "https://localhost:8080/"
        },
        "outputId": "f0a29ee1-eb90-4fba-c1dc-1c95c970915d"
      },
      "outputs": [
        {
          "output_type": "stream",
          "name": "stdout",
          "text": [
            "[[1.         1.41421356]\n",
            " [1.73205081 2.        ]]\n"
          ]
        }
      ],
      "source": [
        "# Elementwise square root\n",
        "print(np.sqrt(x))"
      ]
    },
    {
      "cell_type": "code",
      "execution_count": null,
      "metadata": {
        "id": "OS9rogJGGUN2",
        "colab": {
          "base_uri": "https://localhost:8080/"
        },
        "outputId": "fc4c1957-3188-4e36-f003-f06dc69bcb9c"
      },
      "outputs": [
        {
          "output_type": "stream",
          "name": "stdout",
          "text": [
            "[[1 2]\n",
            " [3 4]]\n",
            "[ 9 10]\n",
            "[11 12]\n"
          ]
        }
      ],
      "source": [
        "x = np.array([[1,2],[3,4]])\n",
        "y = np.array([[5,6],[7,8]])\n",
        "print(x)\n",
        "v = np.array([9,10])\n",
        "w = np.array([11, 12])\n",
        "print(v)\n",
        "print(w)"
      ]
    },
    {
      "cell_type": "code",
      "execution_count": null,
      "metadata": {
        "id": "r2tiHXDyGUN2",
        "colab": {
          "base_uri": "https://localhost:8080/"
        },
        "outputId": "2224ab3e-a6d8-4358-b98d-dbd7f8bf465a"
      },
      "outputs": [
        {
          "output_type": "stream",
          "name": "stdout",
          "text": [
            "219\n",
            "219\n"
          ]
        }
      ],
      "source": [
        "# Inner product of vectors\n",
        "print(v.dot(w))\n",
        "print(np.dot(v, w))"
      ]
    },
    {
      "cell_type": "code",
      "execution_count": null,
      "metadata": {
        "id": "KupW_S8SGUN2",
        "colab": {
          "base_uri": "https://localhost:8080/"
        },
        "outputId": "b5abb294-5701-4c9a-e7da-4b95a652f3d4"
      },
      "outputs": [
        {
          "output_type": "stream",
          "name": "stdout",
          "text": [
            "[[1 2]\n",
            " [3 4]]\n",
            "[ 9 10]\n"
          ]
        }
      ],
      "source": [
        "print(x)\n",
        "print(v)"
      ]
    },
    {
      "cell_type": "code",
      "execution_count": null,
      "metadata": {
        "id": "vALJ1sUPGUN2",
        "colab": {
          "base_uri": "https://localhost:8080/"
        },
        "outputId": "26a70fe8-1ce4-48e0-b15d-3ca5edb38e7a"
      },
      "outputs": [
        {
          "output_type": "stream",
          "name": "stdout",
          "text": [
            "[29 67]\n",
            "[29 67]\n"
          ]
        }
      ],
      "source": [
        "# Matrix / vector product\n",
        "print(x.dot(v))\n",
        "print(np.dot(x, v))"
      ]
    },
    {
      "cell_type": "code",
      "execution_count": null,
      "metadata": {
        "id": "6YDs3ZAqGUN3",
        "colab": {
          "base_uri": "https://localhost:8080/"
        },
        "outputId": "93daf339-8bdf-4265-a9ca-b8b1d39ddffd"
      },
      "outputs": [
        {
          "output_type": "stream",
          "name": "stdout",
          "text": [
            "[[1 2]\n",
            " [3 4]]\n",
            "10\n",
            "[4 6]\n",
            "[3 7]\n"
          ]
        }
      ],
      "source": [
        "x = np.array([[1,2],[3,4]])\n",
        "\n",
        "print(x)\n",
        "\n",
        "print(np.sum(x)) # Compute sum of all elements\n",
        "\n",
        "print(np.sum(x, axis=0)) # Compute sum of each column\n",
        "\n",
        "print(np.sum(x, axis=1)) # Compute sum of each row"
      ]
    },
    {
      "cell_type": "code",
      "execution_count": null,
      "metadata": {
        "id": "ElWpMrORGUN3",
        "colab": {
          "base_uri": "https://localhost:8080/"
        },
        "outputId": "48ba0797-7bcf-4333-a62c-265e008fdaa7"
      },
      "outputs": [
        {
          "output_type": "stream",
          "name": "stdout",
          "text": [
            "[[1 2]\n",
            " [3 4]]\n",
            "[[1 3]\n",
            " [2 4]]\n"
          ]
        }
      ],
      "source": [
        "x = np.array([[1,2], [3,4]])\n",
        "\n",
        "print(x) \n",
        "# Transpose\n",
        "print(x.T) \n"
      ]
    },
    {
      "cell_type": "markdown",
      "metadata": {
        "id": "BzZLmhGXGUN3"
      },
      "source": [
        "### Intrinsic NumPy array creation using NumPy's methods"
      ]
    },
    {
      "cell_type": "code",
      "execution_count": null,
      "metadata": {
        "id": "nEzA5PBsGUN4",
        "colab": {
          "base_uri": "https://localhost:8080/"
        },
        "outputId": "b464ebb4-4eed-4d6b-9909-7f4f4c7e62bd"
      },
      "outputs": [
        {
          "output_type": "execute_result",
          "data": {
            "text/plain": [
              "array([0, 1, 2, 3, 4, 5, 6])"
            ]
          },
          "metadata": {},
          "execution_count": 60
        }
      ],
      "source": [
        "np.arange(7)"
      ]
    },
    {
      "cell_type": "code",
      "execution_count": null,
      "metadata": {
        "id": "IdMcpYTcGUN5",
        "colab": {
          "base_uri": "https://localhost:8080/"
        },
        "outputId": "87112d69-6551-4939-a1b6-23c76c6c7999"
      },
      "outputs": [
        {
          "output_type": "execute_result",
          "data": {
            "text/plain": [
              "array([10, 11, 12, 13, 14, 15, 16, 17, 18, 19, 20, 21, 22])"
            ]
          },
          "metadata": {},
          "execution_count": 61
        }
      ],
      "source": [
        "np.arange(10, 23)"
      ]
    },
    {
      "cell_type": "code",
      "execution_count": null,
      "metadata": {
        "id": "CJsmwTzeGUN6",
        "colab": {
          "base_uri": "https://localhost:8080/"
        },
        "outputId": "7a72fbb1-8174-4f14-de70-59c608a33071"
      },
      "outputs": [
        {
          "output_type": "execute_result",
          "data": {
            "text/plain": [
              "13"
            ]
          },
          "metadata": {},
          "execution_count": 62
        }
      ],
      "source": [
        "len (np.arange(10, 23))"
      ]
    },
    {
      "cell_type": "code",
      "execution_count": null,
      "metadata": {
        "id": "Pqzu4ruiGUN6",
        "colab": {
          "base_uri": "https://localhost:8080/"
        },
        "outputId": "a0b38d7a-59fc-4c18-8663-1d943c0d9e69"
      },
      "outputs": [
        {
          "output_type": "execute_result",
          "data": {
            "text/plain": [
              "13"
            ]
          },
          "metadata": {},
          "execution_count": 63
        }
      ],
      "source": [
        "my_range_array = np.arange(10, 23)\n",
        "my_range_array.size\n",
        "np.arange(10,23).size"
      ]
    },
    {
      "cell_type": "code",
      "execution_count": null,
      "metadata": {
        "id": "ceSWO4heGUN6",
        "colab": {
          "base_uri": "https://localhost:8080/"
        },
        "outputId": "c88a7984-eac1-4776-ac1c-457586e8aeda"
      },
      "outputs": [
        {
          "output_type": "execute_result",
          "data": {
            "text/plain": [
              "array([10, 15, 20])"
            ]
          },
          "metadata": {},
          "execution_count": 64
        }
      ],
      "source": [
        "np.arange(10, 23, 5)"
      ]
    },
    {
      "cell_type": "code",
      "execution_count": null,
      "metadata": {
        "id": "OWe7vDM1GUN7",
        "colab": {
          "base_uri": "https://localhost:8080/"
        },
        "outputId": "a8036957-99f3-4bc4-b25e-390ad06f8170"
      },
      "outputs": [
        {
          "output_type": "execute_result",
          "data": {
            "text/plain": [
              "array([10, 15, 20])"
            ]
          },
          "metadata": {},
          "execution_count": 65
        }
      ],
      "source": [
        "np.arange(10, 25, 5)"
      ]
    },
    {
      "cell_type": "code",
      "execution_count": null,
      "metadata": {
        "id": "DBms-p9AGUN7",
        "colab": {
          "base_uri": "https://localhost:8080/"
        },
        "outputId": "1f27a4c4-e180-4827-cbb0-fe4c05d3aa05"
      },
      "outputs": [
        {
          "output_type": "execute_result",
          "data": {
            "text/plain": [
              "array([10, 15, 20, 25])"
            ]
          },
          "metadata": {},
          "execution_count": 66
        }
      ],
      "source": [
        "np.arange(10, 26, 5)"
      ]
    },
    {
      "cell_type": "code",
      "execution_count": null,
      "metadata": {
        "id": "h-dHWHePGUN7",
        "colab": {
          "base_uri": "https://localhost:8080/"
        },
        "outputId": "ead31ca2-5085-4134-e22b-21035caf44fc"
      },
      "outputs": [
        {
          "output_type": "execute_result",
          "data": {
            "text/plain": [
              "array([ 0,  5, 10, 15, 20, 25])"
            ]
          },
          "metadata": {},
          "execution_count": 67
        }
      ],
      "source": [
        "np.arange(26, step=5)"
      ]
    },
    {
      "cell_type": "code",
      "execution_count": null,
      "metadata": {
        "id": "U-1TGQ0VGUN8",
        "colab": {
          "base_uri": "https://localhost:8080/"
        },
        "outputId": "1c7d9838-c36e-4989-8dc8-89f5de52eb65"
      },
      "outputs": [
        {
          "output_type": "execute_result",
          "data": {
            "text/plain": [
              "array([ 1,  6, 11, 16, 21])"
            ]
          },
          "metadata": {},
          "execution_count": 68
        }
      ],
      "source": [
        "np.arange(1, 26, step=5)"
      ]
    },
    {
      "cell_type": "markdown",
      "metadata": {
        "id": "Q7M3NFqxGUN8"
      },
      "source": [
        "### linspace"
      ]
    },
    {
      "cell_type": "code",
      "execution_count": null,
      "metadata": {
        "id": "HswsEHsPGUN8",
        "colab": {
          "base_uri": "https://localhost:8080/"
        },
        "outputId": "00db6836-2110-4a25-a3dd-9d64efe0ae87"
      },
      "outputs": [
        {
          "output_type": "execute_result",
          "data": {
            "text/plain": [
              "array([ 5.  ,  6.25,  7.5 ,  8.75, 10.  , 11.25, 12.5 , 13.75, 15.  ])"
            ]
          },
          "metadata": {},
          "execution_count": 69
        }
      ],
      "source": [
        "np.linspace(5, 15, 9)"
      ]
    },
    {
      "cell_type": "code",
      "execution_count": null,
      "metadata": {
        "id": "3Uvq24SjGUN9",
        "colab": {
          "base_uri": "https://localhost:8080/"
        },
        "outputId": "fe7bbe90-99b5-4976-9ed4-3bcf97405dd0"
      },
      "outputs": [
        {
          "output_type": "execute_result",
          "data": {
            "text/plain": [
              "array([ 5. ,  5.2,  5.4,  5.6,  5.8,  6. ,  6.2,  6.4,  6.6,  6.8,  7. ,\n",
              "        7.2,  7.4,  7.6,  7.8,  8. ,  8.2,  8.4,  8.6,  8.8,  9. ,  9.2,\n",
              "        9.4,  9.6,  9.8, 10. , 10.2, 10.4, 10.6, 10.8, 11. , 11.2, 11.4,\n",
              "       11.6, 11.8, 12. , 12.2, 12.4, 12.6, 12.8, 13. , 13.2, 13.4, 13.6,\n",
              "       13.8, 14. , 14.2, 14.4, 14.6, 14.8])"
            ]
          },
          "metadata": {},
          "execution_count": 70
        }
      ],
      "source": [
        "np.linspace(5, 15,endpoint=False)"
      ]
    },
    {
      "cell_type": "code",
      "execution_count": null,
      "metadata": {
        "id": "8sYE4NFqGUN9",
        "colab": {
          "base_uri": "https://localhost:8080/"
        },
        "outputId": "fcd9b1cc-699d-4055-c8ab-a31e88710b1e"
      },
      "outputs": [
        {
          "output_type": "stream",
          "name": "stdout",
          "text": [
            "1.25\n"
          ]
        }
      ],
      "source": [
        "my_linspace = np.linspace(5, 15, 9, retstep=True)\n",
        "#print(my_linspace)\n",
        "print(my_linspace[1])"
      ]
    },
    {
      "cell_type": "markdown",
      "metadata": {
        "id": "bMea3ddHGUN9"
      },
      "source": [
        "### reshape"
      ]
    },
    {
      "cell_type": "code",
      "execution_count": null,
      "metadata": {
        "id": "7whjum73GUN-",
        "colab": {
          "base_uri": "https://localhost:8080/"
        },
        "outputId": "dc231fda-21e2-465a-94c3-a76f9bf5a95b"
      },
      "outputs": [
        {
          "output_type": "stream",
          "name": "stdout",
          "text": [
            "[[[ 1]\n",
            "  [ 2]\n",
            "  [ 3]\n",
            "  [ 4]\n",
            "  [ 5]\n",
            "  [ 6]]\n",
            "\n",
            " [[ 7]\n",
            "  [ 8]\n",
            "  [ 9]\n",
            "  [10]\n",
            "  [11]\n",
            "  [12]]]\n",
            "3\n"
          ]
        }
      ],
      "source": [
        "a6 = np.array([1,2,3,4,5,6,7,8,9,10,11,12]).reshape(2,6,1)\n",
        "print(a6)\n",
        "print(a6.ndim)"
      ]
    },
    {
      "cell_type": "code",
      "execution_count": null,
      "metadata": {
        "id": "lA_Jsz0uGUN-",
        "colab": {
          "base_uri": "https://localhost:8080/"
        },
        "outputId": "59728873-4f27-4a49-ecb0-5a3499b032da"
      },
      "outputs": [
        {
          "output_type": "stream",
          "name": "stdout",
          "text": [
            "[[[1]\n",
            "  [2]\n",
            "  [3]]\n",
            "\n",
            " [[4]\n",
            "  [5]\n",
            "  [6]]\n",
            "\n",
            " [[7]\n",
            "  [8]\n",
            "  [9]]]\n"
          ]
        }
      ],
      "source": [
        "a7 = np.array([1,2,3,4,5,6,7,8,9]).reshape(3,3,1)\n",
        "print(a7)"
      ]
    },
    {
      "cell_type": "code",
      "execution_count": null,
      "metadata": {
        "id": "A1c3qBdYGUN_",
        "colab": {
          "base_uri": "https://localhost:8080/"
        },
        "outputId": "ad30ae2e-65fb-48a4-de6a-0552e42b6612"
      },
      "outputs": [
        {
          "output_type": "stream",
          "name": "stdout",
          "text": [
            "[[[ 0  1  2  3  4]\n",
            "  [ 5  6  7  8  9]\n",
            "  [10 11 12 13 14]\n",
            "  [15 16 17 18 19]]\n",
            "\n",
            " [[20 21 22 23 24]\n",
            "  [25 26 27 28 29]\n",
            "  [30 31 32 33 34]\n",
            "  [35 36 37 38 39]]\n",
            "\n",
            " [[40 41 42 43 44]\n",
            "  [45 46 47 48 49]\n",
            "  [50 51 52 53 54]\n",
            "  [55 56 57 58 59]]]\n"
          ]
        }
      ],
      "source": [
        "a8 = np.arange(60).reshape(3,4,5)\n",
        "print(a8)"
      ]
    },
    {
      "cell_type": "code",
      "execution_count": null,
      "metadata": {
        "id": "AVjhg27QGUN_",
        "colab": {
          "base_uri": "https://localhost:8080/"
        },
        "outputId": "3574edfb-8650-443a-83ac-4c9a67818e26"
      },
      "outputs": [
        {
          "output_type": "stream",
          "name": "stdout",
          "text": [
            "[[[ 0  1  2  3  4]\n",
            "  [ 5  6  7  8  9]\n",
            "  [10 11 12 13 14]\n",
            "  [15 16 17 18 19]]\n",
            "\n",
            " [[20 21 22 23 24]\n",
            "  [25 26 27 28 29]\n",
            "  [30 31 32 33 34]\n",
            "  [35 36 37 38 39]]\n",
            "\n",
            " [[40 41 42 43 44]\n",
            "  [45 46 47 48 49]\n",
            "  [50 51 52 53 54]\n",
            "  [55 56 57 58 59]]]\n"
          ]
        },
        {
          "output_type": "execute_result",
          "data": {
            "text/plain": [
              "3"
            ]
          },
          "metadata": {},
          "execution_count": 81
        }
      ],
      "source": [
        "a9 = np.arange(60).reshape(3,4,5)\n",
        "print(a9)\n",
        "a9.ndim"
      ]
    },
    {
      "cell_type": "markdown",
      "metadata": {
        "id": "URNNpAN5GUN_"
      },
      "source": [
        "### BroadCasting"
      ]
    },
    {
      "cell_type": "code",
      "execution_count": null,
      "metadata": {
        "id": "wuKvZ_jYGUN_"
      },
      "outputs": [],
      "source": [
        "my_3D_array = np.arange(70)\n",
        "my_3D_array=my_3D_array.reshape(2,7,5)\n",
        "my_3D_array"
      ]
    },
    {
      "cell_type": "code",
      "execution_count": null,
      "metadata": {
        "id": "7yc8v706GUOA"
      },
      "outputs": [],
      "source": [
        "my_3D_array.shape"
      ]
    },
    {
      "cell_type": "code",
      "execution_count": null,
      "metadata": {
        "id": "r1CEDZuUGUOA"
      },
      "outputs": [],
      "source": [
        "my_3D_array.ndim"
      ]
    },
    {
      "cell_type": "code",
      "execution_count": null,
      "metadata": {
        "id": "8M0v33v8GUOA"
      },
      "outputs": [],
      "source": [
        "len(my_3D_array)"
      ]
    },
    {
      "cell_type": "code",
      "execution_count": null,
      "metadata": {
        "id": "iXtGN2KJGUOB"
      },
      "outputs": [],
      "source": [
        "my_3D_array.dtype"
      ]
    },
    {
      "cell_type": "code",
      "execution_count": null,
      "metadata": {
        "id": "qx0OgH9YGUOB"
      },
      "outputs": [],
      "source": [
        "5 * my_3D_array - 2"
      ]
    },
    {
      "cell_type": "code",
      "execution_count": null,
      "metadata": {
        "id": "Ui2smZ2pGUOB"
      },
      "outputs": [],
      "source": [
        "print(my_3D_array)"
      ]
    },
    {
      "cell_type": "code",
      "execution_count": null,
      "metadata": {
        "id": "Z0toeNDyGUOB"
      },
      "outputs": [],
      "source": [
        "my_3D_array.sum(axis=None)"
      ]
    },
    {
      "cell_type": "code",
      "execution_count": null,
      "metadata": {
        "id": "66EKeeh4GUOD"
      },
      "outputs": [],
      "source": [
        "my_3D_array.sum(axis=0)"
      ]
    },
    {
      "cell_type": "code",
      "execution_count": null,
      "metadata": {
        "id": "C1ueSnKJGUOD"
      },
      "outputs": [],
      "source": [
        "my_3D_array.sum(axis=1)"
      ]
    },
    {
      "cell_type": "code",
      "execution_count": null,
      "metadata": {
        "id": "-J1P0aoIGUOD"
      },
      "outputs": [],
      "source": [
        "my_3D_array.sum(axis=2)"
      ]
    },
    {
      "cell_type": "markdown",
      "metadata": {
        "id": "p0jajXGpGUOD"
      },
      "source": [
        "### Sort"
      ]
    },
    {
      "cell_type": "code",
      "execution_count": null,
      "metadata": {
        "id": "rWbQIIemGUOE",
        "colab": {
          "base_uri": "https://localhost:8080/"
        },
        "outputId": "30ec7145-5016-4251-846e-35ead1baf30d"
      },
      "outputs": [
        {
          "output_type": "stream",
          "name": "stdout",
          "text": [
            "[[30  3  4  1]\n",
            " [ 2  4  3  1]]\n"
          ]
        }
      ],
      "source": [
        "a1 = np.array([[30,3,4,1],[2,4,3,1]])\n",
        "print(a1)"
      ]
    },
    {
      "cell_type": "code",
      "execution_count": null,
      "metadata": {
        "id": "F_2Sqsu-GUOE",
        "colab": {
          "base_uri": "https://localhost:8080/"
        },
        "outputId": "f7a9a597-144d-410c-9b73-be7aede631e6"
      },
      "outputs": [
        {
          "output_type": "stream",
          "name": "stdout",
          "text": [
            "[[ 2  3  3  1]\n",
            " [30  4  4  1]]\n"
          ]
        }
      ],
      "source": [
        "a3 = np.sort(a1,axis = 0)\n",
        "print(a3)"
      ]
    },
    {
      "cell_type": "code",
      "execution_count": null,
      "metadata": {
        "id": "WoVxgAO7GUOE",
        "colab": {
          "base_uri": "https://localhost:8080/"
        },
        "outputId": "54e235c8-d7e5-44cf-965c-414a2cfc90af"
      },
      "outputs": [
        {
          "output_type": "stream",
          "name": "stdout",
          "text": [
            "[[ 1  3  4 30]\n",
            " [ 1  2  3  4]]\n"
          ]
        }
      ],
      "source": [
        "a4 = np.sort(a1,axis = 1)\n",
        "print(a4)"
      ]
    },
    {
      "cell_type": "code",
      "execution_count": null,
      "metadata": {
        "id": "Bek7WeJpGUOF"
      },
      "outputs": [],
      "source": [
        "a5 = np.sort(a1,axis = None)\n",
        "print(a5)"
      ]
    },
    {
      "cell_type": "markdown",
      "metadata": {
        "id": "Boc9U_q4GUOF"
      },
      "source": [
        "### vstack, hstack "
      ]
    },
    {
      "cell_type": "code",
      "execution_count": null,
      "metadata": {
        "id": "Ff6qvfSgGUOF",
        "colab": {
          "base_uri": "https://localhost:8080/"
        },
        "outputId": "24afcc1c-e8da-445d-d7af-11325810dedc"
      },
      "outputs": [
        {
          "output_type": "stream",
          "name": "stdout",
          "text": [
            "[1 3 5]\n",
            "[2 4 6]\n",
            "[[1 3 5]\n",
            " [2 4 6]]\n"
          ]
        }
      ],
      "source": [
        "a10 = np.array([1,3,5])\n",
        "a11 = np.array([2,4,6])\n",
        "print(a10)\n",
        "print(a11)\n",
        "a12 = np.vstack([a10,a11])\n",
        "print(a12)"
      ]
    },
    {
      "cell_type": "code",
      "execution_count": null,
      "metadata": {
        "id": "pnemgF2MGUOG",
        "colab": {
          "base_uri": "https://localhost:8080/"
        },
        "outputId": "c54020ba-979f-432b-8502-3821c39c397a"
      },
      "outputs": [
        {
          "output_type": "stream",
          "name": "stdout",
          "text": [
            "[[2 4 6]\n",
            " [1 3 5]]\n"
          ]
        }
      ],
      "source": [
        "a13 = np.vstack([a11,a10])\n",
        "print(a13)"
      ]
    },
    {
      "cell_type": "code",
      "execution_count": null,
      "metadata": {
        "id": "v64bD2GnGUOG",
        "colab": {
          "base_uri": "https://localhost:8080/"
        },
        "outputId": "a6cd3f8f-82ac-499c-9c87-9949fde145f1"
      },
      "outputs": [
        {
          "output_type": "stream",
          "name": "stdout",
          "text": [
            "[1 3 5 2 4 6]\n"
          ]
        }
      ],
      "source": [
        "a14 = np.hstack([a10,a11])\n",
        "print(a14)"
      ]
    },
    {
      "cell_type": "markdown",
      "metadata": {
        "id": "3aqncRmkGUOG"
      },
      "source": [
        "# Matplotlib"
      ]
    },
    {
      "cell_type": "code",
      "execution_count": null,
      "metadata": {
        "id": "Ir_8qnAhGUOG"
      },
      "outputs": [],
      "source": [
        "import matplotlib.pyplot as plt\n",
        "import numpy as np"
      ]
    },
    {
      "cell_type": "markdown",
      "metadata": {
        "id": "oaF7GQMuGUOG"
      },
      "source": [
        "## Plotting"
      ]
    },
    {
      "cell_type": "code",
      "execution_count": null,
      "metadata": {
        "id": "gPI0VHTkGUOH"
      },
      "outputs": [],
      "source": [
        "%matplotlib inline"
      ]
    },
    {
      "cell_type": "code",
      "execution_count": null,
      "metadata": {
        "id": "S6YMGN2uGUOH",
        "colab": {
          "base_uri": "https://localhost:8080/",
          "height": 680
        },
        "outputId": "00e2d2ab-931c-42f3-f44a-30d2382a94f2"
      },
      "outputs": [
        {
          "output_type": "stream",
          "name": "stdout",
          "text": [
            "[0.  0.1 0.2 0.3 0.4 0.5 0.6 0.7 0.8 0.9 1.  1.1 1.2 1.3 1.4 1.5 1.6 1.7\n",
            " 1.8 1.9 2.  2.1 2.2 2.3 2.4 2.5 2.6 2.7 2.8 2.9 3.  3.1 3.2 3.3 3.4 3.5\n",
            " 3.6 3.7 3.8 3.9 4.  4.1 4.2 4.3 4.4 4.5 4.6 4.7 4.8 4.9 5.  5.1 5.2 5.3\n",
            " 5.4 5.5 5.6 5.7 5.8 5.9 6.  6.1 6.2 6.3 6.4 6.5 6.6 6.7 6.8 6.9 7.  7.1\n",
            " 7.2 7.3 7.4 7.5 7.6 7.7 7.8 7.9 8.  8.1 8.2 8.3 8.4 8.5 8.6 8.7 8.8 8.9\n",
            " 9.  9.1 9.2 9.3 9.4]\n",
            "[ 0.          0.09983342  0.19866933  0.29552021  0.38941834  0.47942554\n",
            "  0.56464247  0.64421769  0.71735609  0.78332691  0.84147098  0.89120736\n",
            "  0.93203909  0.96355819  0.98544973  0.99749499  0.9995736   0.99166481\n",
            "  0.97384763  0.94630009  0.90929743  0.86320937  0.8084964   0.74570521\n",
            "  0.67546318  0.59847214  0.51550137  0.42737988  0.33498815  0.23924933\n",
            "  0.14112001  0.04158066 -0.05837414 -0.15774569 -0.2555411  -0.35078323\n",
            " -0.44252044 -0.52983614 -0.61185789 -0.68776616 -0.7568025  -0.81827711\n",
            " -0.87157577 -0.91616594 -0.95160207 -0.97753012 -0.993691   -0.99992326\n",
            " -0.99616461 -0.98245261 -0.95892427 -0.92581468 -0.88345466 -0.83226744\n",
            " -0.77276449 -0.70554033 -0.63126664 -0.55068554 -0.46460218 -0.37387666\n",
            " -0.2794155  -0.1821625  -0.0830894   0.0168139   0.1165492   0.21511999\n",
            "  0.31154136  0.40484992  0.49411335  0.57843976  0.6569866   0.72896904\n",
            "  0.79366786  0.85043662  0.8987081   0.93799998  0.96791967  0.98816823\n",
            "  0.99854335  0.99894134  0.98935825  0.96988981  0.94073056  0.90217183\n",
            "  0.85459891  0.79848711  0.7343971   0.66296923  0.58491719  0.50102086\n",
            "  0.41211849  0.31909836  0.22288991  0.12445442  0.02477543]\n"
          ]
        },
        {
          "output_type": "execute_result",
          "data": {
            "text/plain": [
              "Text(0.5, 1.0, 'Plot')"
            ]
          },
          "metadata": {},
          "execution_count": 91
        },
        {
          "output_type": "display_data",
          "data": {
            "text/plain": [
              "<Figure size 432x288 with 1 Axes>"
            ],
            "image/png": "[encoded data removed]"
          },
          "metadata": {
            "needs_background": "light"
          }
        }
      ],
      "source": [
        "\n",
        "x = np.arange(0, 3 * np.pi, 0.1)\n",
        "print(x)\n",
        "y = np.sin(x)\n",
        "print(y)\n",
        "# Plot the points using matplotlib\n",
        "plt.plot(x, y)\n",
        "plt.title('Plot')\n",
        "#plt.show()"
      ]
    },
    {
      "cell_type": "code",
      "execution_count": null,
      "metadata": {
        "id": "51ZZfNDEGUOH"
      },
      "outputs": [],
      "source": [
        "x = np.arange(0, 3 * np.pi, 0.1)\n",
        "y_sin = np.sin(x)\n",
        "y_cos = np.cos(x)"
      ]
    },
    {
      "cell_type": "code",
      "execution_count": null,
      "metadata": {
        "id": "EtbZN6Z8GUOI",
        "colab": {
          "base_uri": "https://localhost:8080/",
          "height": 312
        },
        "outputId": "14c71da7-3b0b-46df-c8bc-c22677be28aa"
      },
      "outputs": [
        {
          "output_type": "execute_result",
          "data": {
            "text/plain": [
              "<matplotlib.legend.Legend at 0x7f61c0e3edf0>"
            ]
          },
          "metadata": {},
          "execution_count": 86
        },
        {
          "output_type": "display_data",
          "data": {
            "text/plain": [
              "<Figure size 432x288 with 1 Axes>"
            ],
            "image/png": "[encoded data removed]"
          },
          "metadata": {
            "needs_background": "light"
          }
        }
      ],
      "source": [
        "plt.plot(x, y_sin,x, y_cos)\n",
        "#plt.plot(x, y_cos)\n",
        "plt.xlabel('x axis label')\n",
        "plt.ylabel('y axis label')\n",
        "plt.title('Sine and Cosine')\n",
        "plt.legend(['Sine', 'Cosine'])\n",
        "#plt.show()"
      ]
    },
    {
      "cell_type": "markdown",
      "source": [
        "## Imshow"
      ],
      "metadata": {
        "id": "G4rZ-TI7SRbl"
      }
    },
    {
      "cell_type": "code",
      "source": [
        "from skimage import data\n",
        "\n",
        "# Load and visualize a sample image\n",
        "camera = data.camera()\n",
        "plt.figure(figsize=(4, 4))\n",
        "plt.imshow(camera, cmap='gray')\n",
        "plt.axis('off')\n",
        "plt.show()"
      ],
      "metadata": {
        "colab": {
          "base_uri": "https://localhost:8080/",
          "height": 248
        },
        "id": "B9W11hHHSV7E",
        "outputId": "ff9b0a48-0787-496c-ec8e-7c19846f2ddb"
      },
      "execution_count": null,
      "outputs": [
        {
          "output_type": "display_data",
          "data": {
            "text/plain": [
              "<Figure size 288x288 with 1 Axes>"
            ],
            "image/png": "[encoded data removed]"
          },
          "metadata": {
            "needs_background": "light"
          }
        }
      ]
    },
    {
      "cell_type": "markdown",
      "metadata": {
        "id": "PcCIEFeOGUOI"
      },
      "source": [
        "## Subplots"
      ]
    },
    {
      "cell_type": "code",
      "execution_count": null,
      "metadata": {
        "id": "pXEM-lSdGUOI",
        "colab": {
          "base_uri": "https://localhost:8080/",
          "height": 298
        },
        "outputId": "038b7ca2-7d86-4fb3-a1ad-a2fbf1e6d87b"
      },
      "outputs": [
        {
          "output_type": "execute_result",
          "data": {
            "text/plain": [
              "Text(0.5, 1.0, 'Cosine')"
            ]
          },
          "metadata": {},
          "execution_count": 93
        },
        {
          "output_type": "display_data",
          "data": {
            "text/plain": [
              "<Figure size 432x288 with 2 Axes>"
            ],
            "image/png": "[encoded data removed]"
          },
          "metadata": {
            "needs_background": "light"
          }
        }
      ],
      "source": [
        "# Set up a subplot grid that has height 2 and width 1,\n",
        "# and set the first such subplot as active.\n",
        "plt.subplot(1, 2, 1)\n",
        "plt.plot(x, y_sin)\n",
        "plt.title('Sine')\n",
        "\n",
        "# Set the second subplot as active, and make the second plot.\n",
        "plt.subplot(1, 2, 2)\n",
        "plt.plot(x, y_cos)\n",
        "plt.title('Cosine')"
      ]
    },
    {
      "cell_type": "markdown",
      "source": [
        "# Scikit-learn"
      ],
      "metadata": {
        "id": "ZGPVQ_q-hHPB"
      }
    },
    {
      "cell_type": "markdown",
      "source": [
        "### Train a classifier"
      ],
      "metadata": {
        "id": "-yi5WReBhQn2"
      }
    },
    {
      "cell_type": "code",
      "source": [
        "from sklearn.datasets import load_iris\n",
        "from sklearn.linear_model import LogisticRegression\n",
        "from sklearn.naive_bayes import GaussianNB\n",
        "from sklearn.tree import DecisionTreeClassifier\n",
        "from sklearn.model_selection import train_test_split\n",
        "from sklearn.model_selection import cross_val_score"
      ],
      "metadata": {
        "id": "iO4V14KLhTc3"
      },
      "execution_count": null,
      "outputs": []
    },
    {
      "cell_type": "code",
      "source": [
        "X, y = load_iris(return_X_y=True)\n",
        "clf = LogisticRegression(random_state=0).fit(X, y)\n",
        "print(X[:1, :])\n",
        "print(clf.predict(X[:1, :]))\n",
        "print(clf.predict_proba(X[:1, :]))\n",
        "clf.score(X, y)"
      ],
      "metadata": {
        "colab": {
          "base_uri": "https://localhost:8080/"
        },
        "id": "6QIWFzvT1yoO",
        "outputId": "99a94fff-8b4c-4cb9-8586-9ba69f256353"
      },
      "execution_count": null,
      "outputs": [
        {
          "output_type": "stream",
          "name": "stdout",
          "text": [
            "[[5.1 3.5 1.4 0.2]]\n",
            "[0]\n",
            "[[9.81801790e-01 1.81981959e-02 1.43556907e-08]]\n"
          ]
        },
        {
          "output_type": "stream",
          "name": "stderr",
          "text": [
            "/usr/local/lib/python3.7/dist-packages/sklearn/linear_model/_logistic.py:818: ConvergenceWarning: lbfgs failed to converge (status=1):\n",
            "STOP: TOTAL NO. of ITERATIONS REACHED LIMIT.\n",
            "\n",
            "Increase the number of iterations (max_iter) or scale the data as shown in:\n",
            "    https://scikit-learn.org/stable/modules/preprocessing.html\n",
            "Please also refer to the documentation for alternative solver options:\n",
            "    https://scikit-learn.org/stable/modules/linear_model.html#logistic-regression\n",
            "  extra_warning_msg=_LOGISTIC_SOLVER_CONVERGENCE_MSG,\n"
          ]
        },
        {
          "output_type": "execute_result",
          "data": {
            "text/plain": [
              "0.9733333333333334"
            ]
          },
          "metadata": {},
          "execution_count": 75
        }
      ]
    },
    {
      "cell_type": "code",
      "source": [
        "X_train, X_test, y_train, y_test = train_test_split(X, y, test_size=0.33, random_state=42)"
      ],
      "metadata": {
        "id": "TFSlSQHYUYq4"
      },
      "execution_count": null,
      "outputs": []
    },
    {
      "cell_type": "code",
      "source": [
        "X_train.shape"
      ],
      "metadata": {
        "colab": {
          "base_uri": "https://localhost:8080/"
        },
        "id": "F3sobr8dUa3E",
        "outputId": "7ebea2f2-64c0-4b73-88d3-7f165ff74d77"
      },
      "execution_count": null,
      "outputs": [
        {
          "output_type": "execute_result",
          "data": {
            "text/plain": [
              "(100, 4)"
            ]
          },
          "metadata": {},
          "execution_count": 78
        }
      ]
    },
    {
      "cell_type": "code",
      "source": [
        "X_test.shape"
      ],
      "metadata": {
        "colab": {
          "base_uri": "https://localhost:8080/"
        },
        "id": "9RqlLe-1UeLm",
        "outputId": "b64aff8e-3b25-4979-c00e-b7d3930475f7"
      },
      "execution_count": null,
      "outputs": [
        {
          "output_type": "execute_result",
          "data": {
            "text/plain": [
              "(50, 4)"
            ]
          },
          "metadata": {},
          "execution_count": 79
        }
      ]
    },
    {
      "cell_type": "code",
      "source": [
        "print(X.shape)"
      ],
      "metadata": {
        "colab": {
          "base_uri": "https://localhost:8080/"
        },
        "id": "rnSi90LmTkW3",
        "outputId": "505a1417-5c61-4b73-bdcc-fd13dbffe038"
      },
      "execution_count": null,
      "outputs": [
        {
          "output_type": "stream",
          "name": "stdout",
          "text": [
            "(150, 4)\n"
          ]
        }
      ]
    },
    {
      "cell_type": "code",
      "source": [],
      "metadata": {
        "id": "7NLRGYrx1yv2"
      },
      "execution_count": null,
      "outputs": []
    },
    {
      "cell_type": "markdown",
      "source": [
        "### Predicting the label of a new value and getting score"
      ],
      "metadata": {
        "id": "vA-bwJLdzVC1"
      }
    },
    {
      "cell_type": "code",
      "source": [
        "X, y = load_iris(return_X_y=True)\n",
        "clf = LogisticRegression(random_state=0).fit(X, y)\n",
        "print(X[:1, :])\n",
        "print(clf.predict(X[:1, :]))\n",
        "print(clf.predict_proba(X[:1, :]))\n",
        "clf.score(X, y)\n"
      ],
      "metadata": {
        "colab": {
          "base_uri": "https://localhost:8080/"
        },
        "id": "jVtVwdGpiDAI",
        "outputId": "66c08297-456f-4d47-8ada-0988f2795bcd"
      },
      "execution_count": null,
      "outputs": [
        {
          "output_type": "stream",
          "name": "stdout",
          "text": [
            "[0]\n"
          ]
        },
        {
          "output_type": "execute_result",
          "data": {
            "text/plain": [
              "0.9733333333333334"
            ]
          },
          "metadata": {},
          "execution_count": 14
        }
      ]
    },
    {
      "cell_type": "markdown",
      "source": [
        "# Torch"
      ],
      "metadata": {
        "id": "Gzna105gzxb1"
      }
    },
    {
      "cell_type": "code",
      "source": [
        "import torch"
      ],
      "metadata": {
        "id": "u6YLRo1yz0Wn"
      },
      "execution_count": null,
      "outputs": []
    },
    {
      "cell_type": "code",
      "source": [
        "Tensor1 = torch.ones([2, 4])\n",
        "Tensor2 = torch.tensor([[1, 2], [3, 4]])"
      ],
      "metadata": {
        "id": "MX0DUKt3z1HP"
      },
      "execution_count": null,
      "outputs": []
    },
    {
      "cell_type": "code",
      "source": [
        "print(Tensor1)"
      ],
      "metadata": {
        "id": "MYkRz1Z2KO5X",
        "colab": {
          "base_uri": "https://localhost:8080/"
        },
        "outputId": "d87af1cb-ed6b-4581-fa6c-2035f9a16402"
      },
      "execution_count": null,
      "outputs": [
        {
          "output_type": "stream",
          "name": "stdout",
          "text": [
            "tensor([[1., 1., 1., 1.],\n",
            "        [1., 1., 1., 1.]], device='cuda:0')\n"
          ]
        }
      ]
    },
    {
      "cell_type": "code",
      "source": [
        "device = torch.device('cuda' if torch.cuda.is_available() else 'cpu')\n",
        "print(device)"
      ],
      "metadata": {
        "colab": {
          "base_uri": "https://localhost:8080/"
        },
        "id": "y5aNU5ViKPhZ",
        "outputId": "4b5028fd-2d3c-4127-9783-5d42fd713098"
      },
      "execution_count": null,
      "outputs": [
        {
          "output_type": "stream",
          "name": "stdout",
          "text": [
            "cuda\n"
          ]
        }
      ]
    },
    {
      "cell_type": "code",
      "source": [
        "Tensor1=Tensor1.to(device)"
      ],
      "metadata": {
        "id": "AHoLy9DnKbeu"
      },
      "execution_count": null,
      "outputs": []
    },
    {
      "cell_type": "markdown",
      "metadata": {
        "id": "Y0RbrqImGUOJ"
      },
      "source": [
        "# Random"
      ]
    },
    {
      "cell_type": "code",
      "execution_count": null,
      "metadata": {
        "id": "-6d7vu-fGUOJ",
        "colab": {
          "base_uri": "https://localhost:8080/"
        },
        "outputId": "09cd376c-dd5d-4f3a-e15d-9e86c20fbfaf"
      },
      "outputs": [
        {
          "output_type": "execute_result",
          "data": {
            "text/plain": [
              "array([0.02316018, 0.50914319, 0.80899969, 0.21031729, 0.39345856,\n",
              "       0.98044256])"
            ]
          },
          "metadata": {},
          "execution_count": 10
        }
      ],
      "source": [
        "import numpy as np\n",
        "np.random.rand(6)"
      ]
    },
    {
      "cell_type": "code",
      "execution_count": null,
      "metadata": {
        "id": "6Z-eRNyXGUOJ",
        "colab": {
          "base_uri": "https://localhost:8080/"
        },
        "outputId": "3cb22f31-68bd-40fe-e429-bbf03837f4f2"
      },
      "outputs": [
        {
          "output_type": "execute_result",
          "data": {
            "text/plain": [
              "array([[0.15868452, 0.49716107],\n",
              "       [0.28105162, 0.34892419],\n",
              "       [0.90102328, 0.36000032]])"
            ]
          },
          "metadata": {},
          "execution_count": 11
        }
      ],
      "source": [
        "np.random.rand(3,2)"
      ]
    },
    {
      "cell_type": "code",
      "execution_count": null,
      "metadata": {
        "id": "R2W4v-8hGUOK",
        "colab": {
          "base_uri": "https://localhost:8080/"
        },
        "outputId": "85d4961a-0dc4-498f-d183-2039454599ea"
      },
      "outputs": [
        {
          "output_type": "execute_result",
          "data": {
            "text/plain": [
              "array([[-0.35113084, -0.7201903 ,  0.79531154],\n",
              "       [ 1.0335995 , -0.14204833,  0.24373198]])"
            ]
          },
          "metadata": {},
          "execution_count": 12
        }
      ],
      "source": [
        "np.random.randn(2,3)"
      ]
    },
    {
      "cell_type": "code",
      "execution_count": null,
      "metadata": {
        "id": "DvExZirxGUOK",
        "colab": {
          "base_uri": "https://localhost:8080/"
        },
        "outputId": "fa9c5a72-cbbb-47c7-9d12-3cb0aee5d6ac"
      },
      "outputs": [
        {
          "output_type": "execute_result",
          "data": {
            "text/plain": [
              "array([0.82561134, 0.51832734, 0.09826677, 0.09363905, 0.06385796,\n",
              "       0.56985084, 0.66816897, 0.62561625, 0.73006966, 0.05836756])"
            ]
          },
          "metadata": {},
          "execution_count": 13
        }
      ],
      "source": [
        "np.random.random(10)"
      ]
    },
    {
      "cell_type": "code",
      "execution_count": null,
      "metadata": {
        "id": "sNbfvssJGUOK",
        "colab": {
          "base_uri": "https://localhost:8080/"
        },
        "outputId": "8e49edcf-0ee0-402c-ecdb-7ca93995d2a8"
      },
      "outputs": [
        {
          "output_type": "execute_result",
          "data": {
            "text/plain": [
              "array([[0.66367586, 0.00135153, 0.15633417, 0.50524418],\n",
              "       [0.80932195, 0.39306527, 0.38799573, 0.21459822],\n",
              "       [0.17153042, 0.55719462, 0.20565037, 0.66856525],\n",
              "       [0.1822811 , 0.7874469 , 0.78825202, 0.03725916],\n",
              "       [0.24533464, 0.24358027, 0.00775493, 0.26134334],\n",
              "       [0.11342551, 0.353601  , 0.26769944, 0.75131526],\n",
              "       [0.38084521, 0.71707985, 0.18930937, 0.4240477 ],\n",
              "       [0.83999536, 0.05960689, 0.26965749, 0.30330043],\n",
              "       [0.79835776, 0.9211425 , 0.21639466, 0.05151857],\n",
              "       [0.16148834, 0.36027935, 0.23742052, 0.14821104]])"
            ]
          },
          "metadata": {},
          "execution_count": 14
        }
      ],
      "source": [
        "np.random.random((10,4))"
      ]
    },
    {
      "cell_type": "code",
      "execution_count": null,
      "metadata": {
        "id": "KTDTtzoQGUOK",
        "colab": {
          "base_uri": "https://localhost:8080/"
        },
        "outputId": "7cba0d3e-2440-4bbb-dafd-9388713460f9"
      },
      "outputs": [
        {
          "output_type": "execute_result",
          "data": {
            "text/plain": [
              "array([[ 6.66923928,  3.23675604, 10.30779537],\n",
              "       [11.51330885,  5.67505317,  4.81082518]])"
            ]
          },
          "metadata": {},
          "execution_count": 15
        }
      ],
      "source": [
        "np.random.uniform(2,14,size=(2,3))"
      ]
    },
    {
      "cell_type": "code",
      "execution_count": null,
      "metadata": {
        "id": "P6zzcIWlGUOK"
      },
      "outputs": [],
      "source": [
        "import random"
      ]
    },
    {
      "cell_type": "code",
      "execution_count": null,
      "metadata": {
        "id": "zKhJoajmGUOL"
      },
      "outputs": [],
      "source": [
        "random.randrange(30,67)"
      ]
    },
    {
      "cell_type": "code",
      "execution_count": null,
      "metadata": {
        "id": "t8529zXGGUOL"
      },
      "outputs": [],
      "source": [
        "random.randrange(30,67,step=3)"
      ]
    },
    {
      "cell_type": "code",
      "execution_count": null,
      "metadata": {
        "id": "JQ_Drk8eGUOL"
      },
      "outputs": [],
      "source": [
        "np.random.choice(range(5,15),size=(4,3))"
      ]
    },
    {
      "cell_type": "code",
      "execution_count": null,
      "metadata": {
        "id": "SPwvP9xqGUOL",
        "colab": {
          "base_uri": "https://localhost:8080/"
        },
        "outputId": "c02fbf69-7876-4607-f24b-f94c9ae6c5e2"
      },
      "outputs": [
        {
          "output_type": "stream",
          "name": "stdout",
          "text": [
            "[3, 6, 77, 4, 34235]\n"
          ]
        }
      ],
      "source": [
        "Data=[3,4,6,77,34235]\n",
        "np.random.shuffle(Data)\n",
        "print(Data)"
      ]
    },
    {
      "cell_type": "code",
      "execution_count": null,
      "metadata": {
        "id": "nkbp0ZBXGUOM"
      },
      "outputs": [],
      "source": [
        "random.seed(100)"
      ]
    }
  ],
  "metadata": {
    "kernelspec": {
      "display_name": "Python 3 (ipykernel)",
      "language": "python",
      "name": "python3"
    },
    "language_info": {
      "codemirror_mode": {
        "name": "ipython",
        "version": 3
      },
      "file_extension": ".py",
      "mimetype": "text/x-python",
      "name": "python",
      "nbconvert_exporter": "python",
      "pygments_lexer": "ipython3",
      "version": "3.8.12"
    },
    "colab": {
      "provenance": [],
      "include_colab_link": true
    },
    "gpuClass": "standard"
  },
  "nbformat": 4,
  "nbformat_minor": 0
}